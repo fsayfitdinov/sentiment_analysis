{
 "cells": [
  {
   "cell_type": "code",
   "execution_count": 1,
   "metadata": {},
   "outputs": [
    {
     "name": "stdout",
     "output_type": "stream",
     "text": [
      "showing info https://raw.githubusercontent.com/nltk/nltk_data/gh-pages/index.xml\n"
     ]
    },
    {
     "data": {
      "text/plain": [
       "True"
      ]
     },
     "execution_count": 1,
     "metadata": {},
     "output_type": "execute_result"
    }
   ],
   "source": [
    "import nltk\n",
    "nltk.download()"
   ]
  },
  {
   "cell_type": "markdown",
   "metadata": {},
   "source": [
    "<h1>Working with text!</h1>\n"
   ]
  },
  {
   "cell_type": "markdown",
   "metadata": {},
   "source": [
    "<h2>Sentiment Analysis</h2>\n",
    "Identify entities and emotions in a sentence and use these to determine if the entity is being viewed positively or negatively"
   ]
  },
  {
   "cell_type": "markdown",
   "metadata": {},
   "source": [
    "<h3>Easy examples</h3>\n",
    "<li>I had an <b style=\"color:green\">excellent</b> souffle at the restaurant Cavity Maker</li>\n",
    "<li>Excellent is a positive word for both the souffle as well as for the restaurant</li>"
   ]
  },
  {
   "cell_type": "markdown",
   "metadata": {},
   "source": [
    "<h3>Not so easy examples</h3>\n",
    "<h4>Often, looking at words alone is not enough to figure out the sentiment</h4>\n",
    "<li><i>The Girl on the Train is an <span style=\"color:green\">excellent</span> book for a ‘stuck at home’ snow day</i></li> This one is easy since it includes an explicit positive opinion using a positive word\n",
    "<li><i>The Girl on the Train is an <span style=\"color:green\">excellent</span> book for using as a liner for your cat’s litter box</i></li> Not so simple! The positive word \"excellent\" is used with a negative connotation. \n",
    "<li><i>The Girl on the Train is <span style=\"color:green\">better</span> than Gone Girl</i></li> The positive word is used as a comparator. Whether the writer likes The Girl on the Train or not depends on what he or she thinks of Gone Girl"
   ]
  },
  {
   "cell_type": "markdown",
   "metadata": {},
   "source": [
    "<h4>Bottom line</h4>\n",
    "Sentiment analysis is generally a starting point in analyzing a text and is then coupled with other techniques (e.g., topic analysis)"
   ]
  },
  {
   "cell_type": "markdown",
   "metadata": {},
   "source": [
    "<h2>Sentiment analysis is usually done using a corpus of positive and negative words</h2>\n",
    "<li>Some sources compile lists of positive and negative words\n",
    "<li>Others include the polarity - the degree of positivity or negativity - of each word"
   ]
  },
  {
   "cell_type": "markdown",
   "metadata": {},
   "source": [
    "<h2>Sources of sentiment coded words</h2>\n",
    "<ol>\n",
    "<li>Hu and Liu's sentiment analysis lexicon: words coded as either positive or negative</li>\n",
    "<ul>\n",
    "<li>http://ptrckprry.com/course/ssd/data/positive-words.txt\n",
    "<li>http://ptrckprry.com/course/ssd/data/negative-words.txt\n",
    "</ul>\n",
    "<li>NRC Emotion Lexicon: words coded into emotional categories (many languages)</li>\n",
    "<ul>\n",
    "<li>http://saifmohammad.com/WebPages/NRC-Emotion-Lexicon.htm</li>\n",
    "</ul>\n",
    "<li>SentiWordNet: Lists of words weighted by positive or negative sentiment. Includes guidance on how to use the words</li>\n",
    "<ul>\n",
    "<li>http://sentiwordnet.isti.cnr.it/</li>\n",
    "</ul>\n",
    "<li>Vadar Sentiment tool: 7800 words with positive or negative polarity</li>\n",
    "<ul>\n",
    "<li>Included with python nltk</li>\n",
    "</ul>\n",
    "</ol>"
   ]
  },
  {
   "cell_type": "markdown",
   "metadata": {},
   "source": [
    "<h2>Our examples</h2>\n",
    "<li>Compiled set of 15 reviews each of four neighborhood restaurants\n",
    "<li>Presidential inaugural addresses (from Washington to Trump)\n",
    "<li>Some data from yelp (very limited!)"
   ]
  },
  {
   "cell_type": "markdown",
   "metadata": {},
   "source": [
    "<h3>Simple sentiment analysis</h3>\n",
    "Compute the proportion of positive and negative words in a text"
   ]
  },
  {
   "cell_type": "code",
   "execution_count": 2,
   "metadata": {},
   "outputs": [],
   "source": [
    "def get_words(url):\n",
    "    import requests\n",
    "    words = requests.get(url).content.decode('latin-1')\n",
    "    word_list = words.split('\\n')\n",
    "    index = 0\n",
    "    while index < len(word_list):\n",
    "        word = word_list[index]\n",
    "        if ';' in word or not word:\n",
    "            word_list.pop(index)\n",
    "        else:\n",
    "            index+=1\n",
    "    return word_list\n",
    "\n",
    "#Get lists of positive and negative words\n",
    "p_url = 'http://ptrckprry.com/course/ssd/data/positive-words.txt'\n",
    "n_url = 'http://ptrckprry.com/course/ssd/data/negative-words.txt'\n",
    "positive_words = get_words(p_url)\n",
    "negative_words = get_words(n_url)"
   ]
  },
  {
   "cell_type": "markdown",
   "metadata": {},
   "source": [
    "<h4>Read the text being analyzed and count the proportion of positive and negative words in the text</h4>\n"
   ]
  },
  {
   "cell_type": "code",
   "execution_count": 3,
   "metadata": {},
   "outputs": [],
   "source": [
    "with open('data/community.txt','r') as f:\n",
    "    community = f.read()\n",
    "with open('data/le_monde.txt','r') as f:\n",
    "    le_monde = f.read()\n"
   ]
  },
  {
   "cell_type": "markdown",
   "metadata": {},
   "source": [
    "<h4>Compute sentiment by looking at the proportion of positive and negative words in the text</h4>"
   ]
  },
  {
   "cell_type": "code",
   "execution_count": 4,
   "metadata": {},
   "outputs": [
    {
     "name": "stdout",
     "output_type": "stream",
     "text": [
      "community 5.09%\t 1.12%\t 3.97%\n",
      "le monde  5.33%\t 1.49%\t 3.85%\n"
     ]
    }
   ],
   "source": [
    "from nltk import word_tokenize\n",
    "cpos = cneg = lpos = lneg = 0\n",
    "for word in word_tokenize(community):\n",
    "    if word in positive_words:\n",
    "        cpos+=1\n",
    "    if word in negative_words:\n",
    "        cneg+=1\n",
    "for word in word_tokenize(le_monde):\n",
    "    if word in positive_words:\n",
    "        lpos+=1\n",
    "    if word in negative_words:\n",
    "        lneg+=1\n",
    "print(\"community {0:1.2f}%\\t {1:1.2f}%\\t {2:1.2f}%\".format(cpos/len(word_tokenize(community))*100,\n",
    "                                                        cneg/len(word_tokenize(community))*100,\n",
    "                                                        (cpos-cneg)/len(word_tokenize(community))*100))\n",
    "print(\"le monde  {0:1.2f}%\\t {1:1.2f}%\\t {2:1.2f}%\".format(lpos/len(word_tokenize(le_monde))*100,\n",
    "                                                        lneg/len(word_tokenize(le_monde))*100,\n",
    "                                                        (lpos-lneg)/len(word_tokenize(le_monde))*100))\n"
   ]
  },
  {
   "cell_type": "markdown",
   "metadata": {},
   "source": [
    "<h2>Simple sentiment analysis using NRC data</h2>\n",
    "<li>NRC data codifies words with emotions</li>\n",
    "<li>14,182 words are coded into 2 sentiments and 8 emotions</li>\n"
   ]
  },
  {
   "cell_type": "markdown",
   "metadata": {},
   "source": [
    "<h4>For example, the word abandonment is associated with anger, fear, sadness and has a negative sentiment</h4>\n",
    "<li>abandoned\tanger\t1\n",
    "<li>abandoned\tanticipation\t0\n",
    "<li>abandoned\tdisgust\t0\n",
    "<li>abandoned\tfear\t1\n",
    "<li>abandoned\tjoy\t0\n",
    "<li>abandoned\tnegative\t1\n",
    "<li>abandoned\tpositive\t0\n",
    "<li>abandoned\tsadness\t1\n",
    "<li>abandoned\tsurprise\t0\n",
    "<li>abandoned\ttrust\t0"
   ]
  },
  {
   "cell_type": "markdown",
   "metadata": {},
   "source": [
    "<h4>Read the NRC sentiment data</h4>"
   ]
  },
  {
   "cell_type": "code",
   "execution_count": 5,
   "metadata": {},
   "outputs": [],
   "source": [
    "nrc = \"data/NRC-emotion-lexicon-wordlevel-alphabetized-v0.92.txt\"\n",
    "count=0\n",
    "emotion_dict=dict()\n",
    "with open(nrc,'r') as f:\n",
    "    all_lines = list()\n",
    "    for line in f:\n",
    "        if count < 46:\n",
    "            count+=1\n",
    "            continue\n",
    "        line = line.strip().split('\\t')\n",
    "        if int(line[2]) == 1:\n",
    "            if emotion_dict.get(line[0]):\n",
    "                emotion_dict[line[0]].append(line[1])\n",
    "            else:\n",
    "                emotion_dict[line[0]] = [line[1]]\n",
    "        "
   ]
  },
  {
   "cell_type": "markdown",
   "metadata": {},
   "source": [
    "<h4>Functionalize this</h4>"
   ]
  },
  {
   "cell_type": "code",
   "execution_count": 6,
   "metadata": {},
   "outputs": [],
   "source": [
    "def get_nrc_data():\n",
    "    nrc = \"data/NRC-emotion-lexicon-wordlevel-alphabetized-v0.92.txt\"\n",
    "    count=0\n",
    "    emotion_dict=dict()\n",
    "    with open(nrc,'r') as f:\n",
    "        all_lines = list()\n",
    "        for line in f:\n",
    "            if count < 46:\n",
    "                count+=1\n",
    "                continue\n",
    "            line = line.strip().split('\\t')\n",
    "            if int(line[2]) == 1:\n",
    "                if emotion_dict.get(line[0]):\n",
    "                    emotion_dict[line[0]].append(line[1])\n",
    "                else:\n",
    "                    emotion_dict[line[0]] = [line[1]]\n",
    "    return emotion_dict"
   ]
  },
  {
   "cell_type": "code",
   "execution_count": 8,
   "metadata": {},
   "outputs": [
    {
     "data": {
      "text/plain": [
       "{'abacus': ['trust'],\n",
       " 'abandon': ['fear', 'negative', 'sadness'],\n",
       " 'abandoned': ['anger', 'fear', 'negative', 'sadness'],\n",
       " 'abandonment': ['anger', 'fear', 'negative', 'sadness', 'surprise'],\n",
       " 'abba': ['positive'],\n",
       " 'abbot': ['trust'],\n",
       " 'abduction': ['fear', 'negative', 'sadness', 'surprise'],\n",
       " 'aberrant': ['negative'],\n",
       " 'aberration': ['disgust', 'negative'],\n",
       " 'abhor': ['anger', 'disgust', 'fear', 'negative'],\n",
       " 'abhorrent': ['anger', 'disgust', 'fear', 'negative'],\n",
       " 'ability': ['positive'],\n",
       " 'abject': ['disgust', 'negative'],\n",
       " 'abnormal': ['disgust', 'negative'],\n",
       " 'abolish': ['anger', 'negative'],\n",
       " 'abolition': ['negative'],\n",
       " 'abominable': ['disgust', 'fear', 'negative'],\n",
       " 'abomination': ['anger', 'disgust', 'fear', 'negative'],\n",
       " 'abort': ['negative'],\n",
       " 'abortion': ['disgust', 'fear', 'negative', 'sadness'],\n",
       " 'abortive': ['negative', 'sadness'],\n",
       " 'abovementioned': ['positive'],\n",
       " 'abrasion': ['negative'],\n",
       " 'abrogate': ['negative'],\n",
       " 'abrupt': ['surprise'],\n",
       " 'abscess': ['negative', 'sadness'],\n",
       " 'absence': ['fear', 'negative', 'sadness'],\n",
       " 'absent': ['negative', 'sadness'],\n",
       " 'absentee': ['negative', 'sadness'],\n",
       " 'absenteeism': ['negative'],\n",
       " 'absolute': ['positive'],\n",
       " 'absolution': ['joy', 'positive', 'trust'],\n",
       " 'absorbed': ['positive'],\n",
       " 'absurd': ['negative'],\n",
       " 'absurdity': ['negative'],\n",
       " 'abundance': ['anticipation',\n",
       "  'disgust',\n",
       "  'joy',\n",
       "  'negative',\n",
       "  'positive',\n",
       "  'trust'],\n",
       " 'abundant': ['joy', 'positive'],\n",
       " 'abuse': ['anger', 'disgust', 'fear', 'negative', 'sadness'],\n",
       " 'abysmal': ['negative', 'sadness'],\n",
       " 'abyss': ['fear', 'negative', 'sadness'],\n",
       " 'academic': ['positive', 'trust'],\n",
       " 'academy': ['positive'],\n",
       " 'accelerate': ['anticipation'],\n",
       " 'acceptable': ['positive'],\n",
       " 'acceptance': ['positive'],\n",
       " 'accessible': ['positive'],\n",
       " 'accident': ['fear', 'negative', 'sadness', 'surprise'],\n",
       " 'accidental': ['fear', 'negative', 'surprise'],\n",
       " 'accidentally': ['surprise'],\n",
       " 'accolade': ['anticipation', 'joy', 'positive', 'surprise', 'trust'],\n",
       " 'accommodation': ['positive'],\n",
       " 'accompaniment': ['anticipation', 'joy', 'positive', 'trust'],\n",
       " 'accomplish': ['joy', 'positive'],\n",
       " 'accomplished': ['joy', 'positive'],\n",
       " 'accomplishment': ['positive'],\n",
       " 'accord': ['positive', 'trust'],\n",
       " 'account': ['trust'],\n",
       " 'accountability': ['positive', 'trust'],\n",
       " 'accountable': ['positive', 'trust'],\n",
       " 'accountant': ['trust'],\n",
       " 'accounts': ['trust'],\n",
       " 'accredited': ['positive', 'trust'],\n",
       " 'accueil': ['positive'],\n",
       " 'accurate': ['positive', 'trust'],\n",
       " 'accursed': ['anger', 'fear', 'negative', 'sadness'],\n",
       " 'accusation': ['anger', 'disgust', 'negative'],\n",
       " 'accusative': ['negative'],\n",
       " 'accused': ['anger', 'fear', 'negative'],\n",
       " 'accuser': ['anger', 'fear', 'negative'],\n",
       " 'accusing': ['anger', 'fear', 'negative'],\n",
       " 'ace': ['positive'],\n",
       " 'ache': ['negative', 'sadness'],\n",
       " 'achieve': ['joy', 'positive', 'trust'],\n",
       " 'achievement': ['anticipation', 'joy', 'positive', 'trust'],\n",
       " 'aching': ['negative', 'sadness'],\n",
       " 'acid': ['negative'],\n",
       " 'acknowledgment': ['positive'],\n",
       " 'acquire': ['positive'],\n",
       " 'acquiring': ['anticipation', 'positive'],\n",
       " 'acrobat': ['fear', 'joy', 'positive', 'trust'],\n",
       " 'action': ['positive'],\n",
       " 'actionable': ['anger', 'disgust', 'negative'],\n",
       " 'actual': ['positive'],\n",
       " 'acuity': ['positive'],\n",
       " 'acumen': ['positive'],\n",
       " 'adapt': ['positive'],\n",
       " 'adaptable': ['positive'],\n",
       " 'adder': ['anger', 'disgust', 'fear', 'negative', 'sadness'],\n",
       " 'addiction': ['negative'],\n",
       " 'addresses': ['anticipation', 'positive'],\n",
       " 'adept': ['positive'],\n",
       " 'adequacy': ['positive'],\n",
       " 'adhering': ['trust'],\n",
       " 'adipose': ['negative'],\n",
       " 'adjudicate': ['fear', 'negative'],\n",
       " 'adjunct': ['positive'],\n",
       " 'administrative': ['trust'],\n",
       " 'admirable': ['joy', 'positive', 'trust'],\n",
       " 'admiral': ['positive', 'trust'],\n",
       " 'admiration': ['joy', 'positive', 'trust'],\n",
       " 'admire': ['positive', 'trust'],\n",
       " 'admirer': ['positive'],\n",
       " 'admissible': ['positive', 'trust'],\n",
       " 'admonition': ['fear', 'negative'],\n",
       " 'adorable': ['joy', 'positive'],\n",
       " 'adoration': ['joy', 'positive', 'trust'],\n",
       " 'adore': ['anticipation', 'joy', 'positive', 'trust'],\n",
       " 'adrift': ['anticipation', 'fear', 'negative', 'sadness'],\n",
       " 'adulterated': ['negative'],\n",
       " 'adultery': ['disgust', 'negative', 'sadness'],\n",
       " 'advance': ['anticipation', 'fear', 'joy', 'positive', 'surprise'],\n",
       " 'advanced': ['positive'],\n",
       " 'advancement': ['positive'],\n",
       " 'advantage': ['positive'],\n",
       " 'advantageous': ['positive'],\n",
       " 'advent': ['anticipation', 'joy', 'positive', 'trust'],\n",
       " 'adventure': ['anticipation', 'positive'],\n",
       " 'adventurous': ['positive'],\n",
       " 'adversary': ['anger', 'negative'],\n",
       " 'adverse': ['anger', 'disgust', 'fear', 'negative', 'sadness'],\n",
       " 'adversity': ['anger', 'fear', 'negative', 'sadness'],\n",
       " 'advice': ['trust'],\n",
       " 'advisable': ['positive', 'trust'],\n",
       " 'advise': ['positive', 'trust'],\n",
       " 'advised': ['trust'],\n",
       " 'adviser': ['positive', 'trust'],\n",
       " 'advocacy': ['anger', 'anticipation', 'joy', 'positive', 'trust'],\n",
       " 'advocate': ['trust'],\n",
       " 'aesthetic': ['positive'],\n",
       " 'aesthetics': ['joy', 'positive'],\n",
       " 'affable': ['positive'],\n",
       " 'affection': ['joy', 'positive', 'trust'],\n",
       " 'affiliated': ['positive'],\n",
       " 'affirm': ['positive', 'trust'],\n",
       " 'affirmation': ['positive'],\n",
       " 'affirmative': ['positive'],\n",
       " 'affirmatively': ['positive', 'trust'],\n",
       " 'afflict': ['fear', 'negative', 'sadness'],\n",
       " 'afflicted': ['negative'],\n",
       " 'affliction': ['disgust', 'fear', 'negative', 'sadness'],\n",
       " 'affluence': ['joy', 'positive'],\n",
       " 'affluent': ['positive'],\n",
       " 'afford': ['positive'],\n",
       " 'affront': ['anger', 'disgust', 'fear', 'negative', 'sadness', 'surprise'],\n",
       " 'afraid': ['fear', 'negative'],\n",
       " 'aftermath': ['anger', 'disgust', 'fear', 'negative', 'sadness'],\n",
       " 'aftertaste': ['negative'],\n",
       " 'aga': ['fear', 'positive', 'trust'],\n",
       " 'aggravated': ['anger', 'negative'],\n",
       " 'aggravating': ['anger', 'negative', 'sadness'],\n",
       " 'aggravation': ['anger', 'disgust', 'negative'],\n",
       " 'aggression': ['anger', 'fear', 'negative'],\n",
       " 'aggressive': ['anger', 'fear', 'negative'],\n",
       " 'aggressor': ['anger', 'fear', 'negative'],\n",
       " 'aghast': ['disgust', 'fear', 'negative', 'surprise'],\n",
       " 'agile': ['positive'],\n",
       " 'agility': ['positive'],\n",
       " 'agitated': ['anger', 'negative'],\n",
       " 'agitation': ['anger', 'negative'],\n",
       " 'agonizing': ['fear', 'negative'],\n",
       " 'agony': ['anger', 'fear', 'negative', 'sadness'],\n",
       " 'agree': ['positive'],\n",
       " 'agreeable': ['positive', 'trust'],\n",
       " 'agreed': ['positive', 'trust'],\n",
       " 'agreeing': ['positive', 'trust'],\n",
       " 'agreement': ['positive', 'trust'],\n",
       " 'agriculture': ['positive'],\n",
       " 'aground': ['negative'],\n",
       " 'ahead': ['positive'],\n",
       " 'aid': ['positive'],\n",
       " 'aiding': ['positive'],\n",
       " 'ail': ['negative', 'sadness'],\n",
       " 'ailing': ['fear', 'negative', 'sadness'],\n",
       " 'aimless': ['negative'],\n",
       " 'airport': ['anticipation'],\n",
       " 'airs': ['disgust', 'negative'],\n",
       " 'akin': ['trust'],\n",
       " 'alabaster': ['positive'],\n",
       " 'alarm': ['fear', 'negative', 'surprise'],\n",
       " 'alarming': ['fear', 'negative', 'surprise'],\n",
       " 'alb': ['trust'],\n",
       " 'alcoholism': ['anger', 'disgust', 'fear', 'negative', 'sadness'],\n",
       " 'alertness': ['anticipation', 'fear', 'positive', 'surprise'],\n",
       " 'alerts': ['anticipation', 'fear', 'surprise'],\n",
       " 'alien': ['disgust', 'fear', 'negative'],\n",
       " 'alienate': ['anger', 'disgust', 'negative'],\n",
       " 'alienated': ['negative', 'sadness'],\n",
       " 'alienation': ['anger', 'disgust', 'fear', 'negative', 'sadness'],\n",
       " 'alimentation': ['positive'],\n",
       " 'alimony': ['negative'],\n",
       " 'alive': ['anticipation', 'joy', 'positive', 'trust'],\n",
       " 'allay': ['positive'],\n",
       " 'allegation': ['anger', 'negative'],\n",
       " 'allege': ['negative'],\n",
       " 'allegiance': ['positive', 'trust'],\n",
       " 'allegro': ['positive'],\n",
       " 'alleviate': ['positive'],\n",
       " 'alleviation': ['positive'],\n",
       " 'alliance': ['trust'],\n",
       " 'allied': ['positive', 'trust'],\n",
       " 'allowable': ['positive'],\n",
       " 'allure': ['anticipation', 'joy', 'positive', 'surprise'],\n",
       " 'alluring': ['positive'],\n",
       " 'ally': ['positive', 'trust'],\n",
       " 'almighty': ['positive'],\n",
       " 'aloha': ['anticipation', 'joy', 'positive'],\n",
       " 'aloof': ['negative'],\n",
       " 'altercation': ['anger', 'negative'],\n",
       " 'amaze': ['surprise'],\n",
       " 'amazingly': ['joy', 'positive', 'surprise'],\n",
       " 'ambassador': ['positive', 'trust'],\n",
       " 'ambiguous': ['negative'],\n",
       " 'ambition': ['anticipation', 'joy', 'positive', 'trust'],\n",
       " 'ambulance': ['fear', 'trust'],\n",
       " 'ambush': ['anger', 'fear', 'negative', 'surprise'],\n",
       " 'ameliorate': ['positive'],\n",
       " 'amen': ['joy', 'positive', 'trust'],\n",
       " 'amenable': ['positive'],\n",
       " 'amend': ['positive'],\n",
       " 'amends': ['positive'],\n",
       " 'amenity': ['positive'],\n",
       " 'amiable': ['positive'],\n",
       " 'amicable': ['joy', 'positive'],\n",
       " 'ammonia': ['disgust'],\n",
       " 'amnesia': ['negative'],\n",
       " 'amnesty': ['joy', 'positive'],\n",
       " 'amortization': ['trust'],\n",
       " 'amour': ['anticipation', 'joy', 'positive', 'trust'],\n",
       " 'amphetamines': ['disgust', 'negative'],\n",
       " 'amuse': ['joy', 'positive'],\n",
       " 'amused': ['joy', 'positive'],\n",
       " 'amusement': ['joy', 'positive'],\n",
       " 'amusing': ['joy', 'positive'],\n",
       " 'anaconda': ['disgust', 'fear', 'negative'],\n",
       " 'anal': ['negative'],\n",
       " 'analyst': ['anticipation', 'positive', 'trust'],\n",
       " 'anarchism': ['anger', 'fear', 'negative'],\n",
       " 'anarchist': ['anger', 'fear', 'negative'],\n",
       " 'anarchy': ['anger', 'fear', 'negative'],\n",
       " 'anathema': ['anger', 'disgust', 'fear', 'negative', 'sadness'],\n",
       " 'ancestral': ['trust'],\n",
       " 'anchor': ['positive'],\n",
       " 'anchorage': ['positive', 'sadness'],\n",
       " 'ancient': ['negative'],\n",
       " 'angel': ['anticipation', 'joy', 'positive', 'surprise', 'trust'],\n",
       " 'angelic': ['joy', 'positive', 'trust'],\n",
       " 'anger': ['anger', 'negative'],\n",
       " 'angina': ['fear', 'negative'],\n",
       " 'angling': ['anticipation', 'negative'],\n",
       " 'angry': ['anger', 'disgust', 'negative'],\n",
       " 'anguish': ['anger', 'fear', 'negative', 'sadness'],\n",
       " 'animate': ['positive'],\n",
       " 'animated': ['joy', 'positive'],\n",
       " 'animosity': ['anger', 'disgust', 'fear', 'negative', 'sadness'],\n",
       " 'animus': ['anger', 'negative'],\n",
       " 'annihilate': ['anger', 'fear', 'negative'],\n",
       " 'annihilated': ['anger', 'fear', 'negative', 'sadness'],\n",
       " 'annihilation': ['anger', 'fear', 'negative', 'sadness'],\n",
       " 'announcement': ['anticipation'],\n",
       " 'annoy': ['anger', 'disgust', 'negative'],\n",
       " 'annoyance': ['anger', 'disgust', 'negative'],\n",
       " 'annoying': ['anger', 'negative'],\n",
       " 'annul': ['negative'],\n",
       " 'annulment': ['negative', 'sadness'],\n",
       " 'anomaly': ['fear', 'negative', 'surprise'],\n",
       " 'anonymous': ['negative'],\n",
       " 'answerable': ['trust'],\n",
       " 'antagonism': ['anger', 'negative'],\n",
       " 'antagonist': ['anger', 'negative'],\n",
       " 'antagonistic': ['anger', 'disgust', 'negative'],\n",
       " 'anthrax': ['disgust', 'fear', 'negative', 'sadness'],\n",
       " 'antibiotics': ['positive'],\n",
       " 'antichrist': ['anger', 'disgust', 'fear', 'negative'],\n",
       " 'anticipation': ['anticipation'],\n",
       " 'anticipatory': ['anticipation'],\n",
       " 'antidote': ['anticipation', 'positive', 'trust'],\n",
       " 'antifungal': ['positive', 'trust'],\n",
       " 'antipathy': ['anger', 'disgust', 'negative'],\n",
       " 'antiquated': ['negative'],\n",
       " 'antique': ['positive'],\n",
       " 'antiseptic': ['positive', 'trust'],\n",
       " 'antisocial': ['anger', 'disgust', 'fear', 'negative', 'sadness'],\n",
       " 'antithesis': ['anger', 'negative'],\n",
       " 'anxiety': ['anger', 'anticipation', 'fear', 'negative', 'sadness'],\n",
       " 'anxious': ['anticipation', 'fear', 'negative'],\n",
       " 'apache': ['fear', 'negative'],\n",
       " 'apathetic': ['negative', 'sadness'],\n",
       " 'apathy': ['negative', 'sadness'],\n",
       " 'aphid': ['disgust', 'negative'],\n",
       " 'aplomb': ['positive'],\n",
       " 'apologetic': ['positive', 'trust'],\n",
       " 'apologize': ['positive', 'sadness', 'trust'],\n",
       " 'apology': ['positive'],\n",
       " 'apostle': ['positive', 'trust'],\n",
       " 'apostolic': ['trust'],\n",
       " 'appalling': ['disgust', 'fear', 'negative'],\n",
       " 'apparition': ['fear', 'surprise'],\n",
       " 'appeal': ['anticipation'],\n",
       " 'appendicitis': ['fear', 'negative', 'sadness'],\n",
       " 'applause': ['joy', 'positive', 'surprise', 'trust'],\n",
       " 'applicant': ['anticipation'],\n",
       " 'appreciation': ['joy', 'positive', 'trust'],\n",
       " 'apprehend': ['fear'],\n",
       " 'apprehension': ['fear', 'negative'],\n",
       " 'apprehensive': ['anticipation', 'fear', 'negative'],\n",
       " 'apprentice': ['trust'],\n",
       " 'approaching': ['anticipation'],\n",
       " 'approbation': ['positive', 'trust'],\n",
       " 'appropriation': ['negative'],\n",
       " 'approval': ['positive'],\n",
       " 'approve': ['joy', 'positive', 'trust'],\n",
       " 'approving': ['positive'],\n",
       " 'apt': ['positive'],\n",
       " 'aptitude': ['positive'],\n",
       " 'arbiter': ['trust'],\n",
       " 'arbitration': ['anticipation'],\n",
       " 'arbitrator': ['trust'],\n",
       " 'archaeology': ['anticipation', 'positive'],\n",
       " 'archaic': ['negative'],\n",
       " 'architecture': ['trust'],\n",
       " 'ardent': ['anticipation', 'joy', 'positive'],\n",
       " 'ardor': ['positive'],\n",
       " 'arduous': ['negative'],\n",
       " 'argue': ['anger', 'negative'],\n",
       " 'argument': ['anger', 'negative'],\n",
       " 'argumentation': ['anger'],\n",
       " 'argumentative': ['negative'],\n",
       " 'arguments': ['anger'],\n",
       " 'arid': ['negative', 'sadness'],\n",
       " 'aristocracy': ['positive'],\n",
       " 'aristocratic': ['positive'],\n",
       " 'armament': ['anger', 'fear'],\n",
       " 'armaments': ['fear', 'negative'],\n",
       " 'armed': ['anger', 'fear', 'negative', 'positive'],\n",
       " 'armor': ['fear', 'positive', 'trust'],\n",
       " 'armored': ['fear'],\n",
       " 'armory': ['trust'],\n",
       " 'aroma': ['positive'],\n",
       " 'arouse': ['anticipation', 'positive'],\n",
       " 'arraignment': ['anger', 'fear', 'negative', 'sadness'],\n",
       " 'array': ['positive'],\n",
       " 'arrears': ['negative'],\n",
       " 'arrest': ['negative'],\n",
       " 'arrival': ['anticipation'],\n",
       " 'arrive': ['anticipation'],\n",
       " 'arrogance': ['negative'],\n",
       " 'arrogant': ['anger', 'disgust', 'negative'],\n",
       " 'arsenic': ['disgust', 'fear', 'negative', 'sadness'],\n",
       " 'arson': ['anger', 'fear', 'negative'],\n",
       " 'art': ['anticipation', 'joy', 'positive', 'sadness', 'surprise'],\n",
       " 'articulate': ['positive'],\n",
       " 'articulation': ['positive'],\n",
       " 'artillery': ['fear', 'negative'],\n",
       " 'artisan': ['positive'],\n",
       " 'artiste': ['positive'],\n",
       " 'artistic': ['positive'],\n",
       " 'ascendancy': ['positive'],\n",
       " 'ascent': ['positive'],\n",
       " 'ash': ['negative'],\n",
       " 'ashamed': ['disgust', 'negative', 'sadness'],\n",
       " 'ashes': ['negative', 'sadness'],\n",
       " 'asp': ['fear'],\n",
       " 'aspiration': ['anticipation', 'joy', 'positive', 'surprise', 'trust'],\n",
       " 'aspire': ['anticipation', 'joy', 'positive'],\n",
       " 'aspiring': ['anticipation', 'joy', 'positive', 'trust'],\n",
       " 'ass': ['negative'],\n",
       " 'assail': ['anger', 'fear', 'negative', 'surprise'],\n",
       " 'assailant': ['anger', 'fear', 'negative', 'sadness'],\n",
       " 'assassin': ['anger', 'fear', 'negative', 'sadness'],\n",
       " 'assassinate': ['anger', 'fear', 'negative'],\n",
       " 'assassination': ['anger', 'fear', 'negative', 'sadness'],\n",
       " 'assault': ['anger', 'fear', 'negative'],\n",
       " 'assembly': ['positive', 'trust'],\n",
       " 'assent': ['positive'],\n",
       " 'asserting': ['positive', 'trust'],\n",
       " 'assessment': ['surprise', 'trust'],\n",
       " 'assessor': ['trust'],\n",
       " 'assets': ['positive'],\n",
       " 'asshole': ['anger', 'disgust', 'negative'],\n",
       " 'assignee': ['trust'],\n",
       " 'assist': ['positive', 'trust'],\n",
       " 'assistance': ['positive'],\n",
       " 'associate': ['positive', 'trust'],\n",
       " 'association': ['trust'],\n",
       " 'assuage': ['positive'],\n",
       " 'assurance': ['positive', 'trust'],\n",
       " 'assure': ['trust'],\n",
       " 'assured': ['positive', 'trust'],\n",
       " 'assuredly': ['trust'],\n",
       " 'astonishingly': ['positive', 'surprise'],\n",
       " 'astonishment': ['joy', 'positive', 'surprise'],\n",
       " 'astray': ['fear', 'negative'],\n",
       " 'astringent': ['negative'],\n",
       " 'astrologer': ['anticipation', 'positive'],\n",
       " 'astronaut': ['positive'],\n",
       " 'astronomer': ['anticipation', 'positive'],\n",
       " 'astute': ['positive'],\n",
       " 'asylum': ['fear', 'negative'],\n",
       " 'asymmetry': ['disgust'],\n",
       " 'atheism': ['negative'],\n",
       " 'atherosclerosis': ['fear', 'negative', 'sadness'],\n",
       " 'athlete': ['positive'],\n",
       " 'athletic': ['positive'],\n",
       " 'atom': ['positive'],\n",
       " 'atone': ['anticipation', 'joy', 'positive', 'trust'],\n",
       " 'atonement': ['positive'],\n",
       " 'atrocious': ['anger', 'disgust', 'negative'],\n",
       " 'atrocity': ['anger', 'disgust', 'fear', 'negative', 'sadness'],\n",
       " 'atrophy': ['disgust', 'fear', 'negative', 'sadness'],\n",
       " 'attachment': ['positive'],\n",
       " 'attack': ['anger', 'fear', 'negative'],\n",
       " 'attacking': ['anger', 'disgust', 'fear', 'negative', 'sadness', 'surprise'],\n",
       " 'attainable': ['anticipation', 'positive'],\n",
       " 'attainment': ['positive'],\n",
       " 'attempt': ['anticipation'],\n",
       " 'attendance': ['anticipation'],\n",
       " 'attendant': ['positive', 'trust'],\n",
       " 'attention': ['positive'],\n",
       " 'attentive': ['positive', 'trust'],\n",
       " 'attenuated': ['negative'],\n",
       " 'attenuation': ['negative', 'sadness'],\n",
       " 'attest': ['positive', 'trust'],\n",
       " 'attestation': ['trust'],\n",
       " 'attorney': ['anger', 'fear', 'positive', 'trust'],\n",
       " 'attraction': ['positive'],\n",
       " 'attractiveness': ['positive'],\n",
       " 'auction': ['anticipation'],\n",
       " 'audacity': ['negative'],\n",
       " 'audience': ['anticipation'],\n",
       " 'auditor': ['fear', 'trust'],\n",
       " 'augment': ['positive'],\n",
       " 'august': ['positive'],\n",
       " 'aunt': ['positive', 'trust'],\n",
       " 'aura': ['positive'],\n",
       " 'auspicious': ['anticipation', 'joy', 'positive'],\n",
       " 'austere': ['fear', 'negative', 'sadness'],\n",
       " 'austerity': ['negative'],\n",
       " 'authentic': ['joy', 'positive', 'trust'],\n",
       " 'authenticate': ['trust'],\n",
       " 'authentication': ['trust'],\n",
       " 'authenticity': ['positive', 'trust'],\n",
       " 'author': ['positive', 'trust'],\n",
       " 'authoritative': ['positive', 'trust'],\n",
       " 'authority': ['positive', 'trust'],\n",
       " 'authorization': ['positive', 'trust'],\n",
       " 'authorize': ['trust'],\n",
       " 'authorized': ['positive'],\n",
       " 'autocratic': ['negative'],\n",
       " 'automatic': ['trust'],\n",
       " 'autopsy': ['disgust', 'fear', 'negative', 'sadness'],\n",
       " 'avalanche': ['fear', 'negative', 'sadness', 'surprise'],\n",
       " 'avarice': ['anger', 'disgust', 'negative'],\n",
       " 'avatar': ['positive'],\n",
       " 'avenger': ['anger', 'negative'],\n",
       " 'averse': ['anger', 'disgust', 'fear', 'negative'],\n",
       " 'aversion': ['anger', 'disgust', 'fear', 'negative'],\n",
       " 'avoid': ['fear', 'negative'],\n",
       " 'avoidance': ['fear', 'negative'],\n",
       " 'avoiding': ['fear'],\n",
       " 'await': ['anticipation'],\n",
       " 'award': ['anticipation', 'joy', 'positive', 'surprise', 'trust'],\n",
       " 'awful': ['anger', 'disgust', 'fear', 'negative', 'sadness'],\n",
       " 'awkwardness': ['disgust', 'negative'],\n",
       " 'awry': ['negative'],\n",
       " 'axiom': ['trust'],\n",
       " 'axiomatic': ['trust'],\n",
       " 'ay': ['positive'],\n",
       " 'aye': ['positive'],\n",
       " 'babble': ['negative'],\n",
       " 'babbling': ['negative'],\n",
       " 'baboon': ['disgust', 'negative'],\n",
       " 'baby': ['joy', 'positive'],\n",
       " 'babysitter': ['trust'],\n",
       " 'baccalaureate': ['positive'],\n",
       " 'backbone': ['anger', 'positive', 'trust'],\n",
       " 'backer': ['trust'],\n",
       " 'backward': ['negative'],\n",
       " 'backwards': ['disgust', 'negative'],\n",
       " 'backwater': ['negative', 'sadness'],\n",
       " 'bacteria': ['disgust', 'fear', 'negative', 'sadness'],\n",
       " 'bacterium': ['disgust', 'fear', 'negative'],\n",
       " 'bad': ['anger', 'disgust', 'fear', 'negative', 'sadness'],\n",
       " 'badge': ['trust'],\n",
       " 'badger': ['anger', 'negative'],\n",
       " 'badly': ['negative', 'sadness'],\n",
       " 'badness': ['anger', 'disgust', 'fear', 'negative'],\n",
       " 'bailiff': ['fear', 'negative', 'trust'],\n",
       " 'bait': ['fear', 'negative', 'trust'],\n",
       " 'balance': ['positive'],\n",
       " 'balanced': ['positive'],\n",
       " 'bale': ['fear', 'negative'],\n",
       " 'balk': ['negative'],\n",
       " 'ballad': ['positive'],\n",
       " 'ballet': ['positive'],\n",
       " 'ballot': ['anticipation', 'positive', 'trust'],\n",
       " 'balm': ['anticipation', 'joy', 'negative', 'positive'],\n",
       " 'balsam': ['positive'],\n",
       " 'ban': ['negative'],\n",
       " 'bandit': ['negative'],\n",
       " 'bane': ['anger', 'disgust', 'fear', 'negative'],\n",
       " 'bang': ['anger', 'disgust', 'fear', 'negative', 'sadness', 'surprise'],\n",
       " 'banger': ['anger', 'anticipation', 'fear', 'negative', 'surprise'],\n",
       " 'banish': ['anger', 'disgust', 'fear', 'negative', 'sadness'],\n",
       " 'banished': ['anger', 'fear', 'negative', 'sadness'],\n",
       " 'banishment': ['anger', 'disgust', 'negative', 'sadness'],\n",
       " 'bank': ['trust'],\n",
       " 'banker': ['trust'],\n",
       " 'bankrupt': ['fear', 'negative', 'sadness'],\n",
       " 'bankruptcy': ['anger', 'disgust', 'fear', 'negative', 'sadness'],\n",
       " 'banquet': ['anticipation', 'joy', 'positive'],\n",
       " 'banshee': ['anger', 'disgust', 'fear', 'negative', 'sadness'],\n",
       " 'baptism': ['positive'],\n",
       " 'baptismal': ['joy', 'positive'],\n",
       " 'barb': ['anger', 'negative'],\n",
       " 'barbarian': ['fear', 'negative'],\n",
       " 'barbaric': ['anger', 'disgust', 'fear', 'negative'],\n",
       " 'barbarism': ['negative'],\n",
       " 'bard': ['positive'],\n",
       " 'barf': ['disgust'],\n",
       " 'bargain': ['positive', 'trust'],\n",
       " 'bark': ['anger', 'negative'],\n",
       " 'barred': ['negative'],\n",
       " 'barren': ['negative', 'sadness'],\n",
       " 'barricade': ['fear', 'negative'],\n",
       " 'barrier': ['anger', 'negative'],\n",
       " 'barrow': ['disgust'],\n",
       " 'bartender': ['trust'],\n",
       " 'barter': ['trust'],\n",
       " 'base': ['trust'],\n",
       " 'baseless': ['negative'],\n",
       " 'basketball': ['anticipation', 'joy', 'positive'],\n",
       " 'bastard': ['disgust', 'negative', 'sadness'],\n",
       " 'bastion': ['anger', 'positive'],\n",
       " 'bath': ['positive'],\n",
       " 'battalion': ['anger'],\n",
       " 'batter': ['anger', 'fear', 'negative'],\n",
       " 'battered': ['fear', 'negative', 'sadness'],\n",
       " 'battery': ['anger', 'negative'],\n",
       " 'battle': ['anger', 'negative'],\n",
       " 'battled': ['anger', 'fear', 'negative', 'sadness'],\n",
       " 'battlefield': ['fear', 'negative'],\n",
       " 'bawdy': ['negative'],\n",
       " 'bayonet': ['anger', 'fear', 'negative'],\n",
       " 'beach': ['joy'],\n",
       " 'beam': ['joy', 'positive'],\n",
       " 'beaming': ['anticipation', 'joy', 'positive'],\n",
       " 'bear': ['anger', 'fear'],\n",
       " 'bearer': ['negative'],\n",
       " 'bearish': ['anger', 'fear'],\n",
       " 'beast': ['anger', 'fear', 'negative'],\n",
       " 'beastly': ['disgust', 'fear', 'negative'],\n",
       " 'beating': ['anger', 'fear', 'negative', 'sadness'],\n",
       " 'beautification': ['joy', 'positive', 'trust'],\n",
       " 'beautiful': ['joy', 'positive'],\n",
       " 'beautify': ['joy', 'positive'],\n",
       " 'beauty': ['joy', 'positive'],\n",
       " 'bedrock': ['positive', 'trust'],\n",
       " 'bee': ['anger', 'fear'],\n",
       " 'beer': ['joy', 'positive'],\n",
       " 'befall': ['negative'],\n",
       " 'befitting': ['positive'],\n",
       " 'befriend': ['joy', 'positive', 'trust'],\n",
       " 'beg': ['negative', 'sadness'],\n",
       " 'beggar': ['negative', 'sadness'],\n",
       " 'begging': ['negative'],\n",
       " 'begun': ['anticipation'],\n",
       " 'behemoth': ['fear', 'negative'],\n",
       " 'beholden': ['negative'],\n",
       " 'belated': ['negative'],\n",
       " 'believed': ['trust'],\n",
       " 'believer': ['trust'],\n",
       " 'believing': ['positive', 'trust'],\n",
       " 'belittle': ['anger', 'disgust', 'fear', 'negative', 'sadness'],\n",
       " 'belligerent': ['anger', 'fear', 'negative'],\n",
       " 'bellows': ['anger'],\n",
       " 'belt': ['anger', 'fear', 'negative'],\n",
       " 'bender': ['negative'],\n",
       " 'benefactor': ['positive', 'trust'],\n",
       " 'beneficial': ['positive'],\n",
       " 'benefit': ['positive'],\n",
       " 'benevolence': ['joy', 'positive', 'trust'],\n",
       " 'benign': ['joy', 'positive'],\n",
       " 'bequest': ['trust'],\n",
       " 'bereaved': ['negative', 'sadness'],\n",
       " 'bereavement': ['negative', 'sadness'],\n",
       " 'bereft': ['negative'],\n",
       " 'berserk': ['anger', 'negative'],\n",
       " 'berth': ['positive'],\n",
       " 'bestial': ['disgust', 'fear', 'negative'],\n",
       " 'betray': ['anger', 'disgust', 'negative', 'sadness', 'surprise'],\n",
       " 'betrayal': ['anger', 'disgust', 'negative', 'sadness'],\n",
       " 'betrothed': ['anticipation', 'joy', 'positive', 'trust'],\n",
       " 'betterment': ['positive'],\n",
       " 'beverage': ['positive'],\n",
       " 'beware': ['anticipation', 'fear', 'negative'],\n",
       " 'bewildered': ['fear', 'negative', 'surprise'],\n",
       " 'bewilderment': ['fear', 'surprise'],\n",
       " 'bias': ['anger', 'negative'],\n",
       " 'biased': ['negative'],\n",
       " 'biblical': ['positive'],\n",
       " 'bickering': ['anger', 'disgust', 'negative'],\n",
       " 'biennial': ['anticipation'],\n",
       " 'bier': ['fear', 'negative', 'sadness'],\n",
       " 'bigot': ['anger', 'disgust', 'fear', 'negative'],\n",
       " 'bigoted': ['anger', 'disgust', 'fear', 'negative', 'sadness'],\n",
       " 'bile': ['anger', 'disgust', 'negative'],\n",
       " 'bilingual': ['positive'],\n",
       " 'biopsy': ['fear', 'negative'],\n",
       " 'birch': ['anger', 'disgust', 'fear', 'negative'],\n",
       " 'birth': ['anticipation', 'fear', 'joy', 'positive', 'trust'],\n",
       " 'birthday': ['anticipation', 'joy', 'positive', 'surprise'],\n",
       " 'birthplace': ['anger', 'negative'],\n",
       " 'bitch': ['anger', 'disgust', 'fear', 'negative', 'sadness'],\n",
       " 'bite': ['negative'],\n",
       " 'bitterly': ['anger', 'disgust', 'negative', 'sadness'],\n",
       " 'bitterness': ['anger', 'disgust', 'negative', 'sadness'],\n",
       " 'bizarre': ['negative', 'surprise'],\n",
       " 'black': ['negative', 'sadness'],\n",
       " 'blackjack': ['negative'],\n",
       " 'blackmail': ['anger', 'fear', 'negative'],\n",
       " 'blackness': ['fear', 'negative', 'sadness'],\n",
       " 'blame': ['anger', 'disgust', 'negative'],\n",
       " 'blameless': ['positive'],\n",
       " 'bland': ['negative'],\n",
       " 'blanket': ['trust'],\n",
       " 'blasphemous': ['anger', 'disgust', 'negative'],\n",
       " 'blasphemy': ['anger', 'negative'],\n",
       " 'blast': ['anger', 'fear', 'negative', 'surprise'],\n",
       " 'blatant': ['anger', 'disgust', 'negative'],\n",
       " 'blather': ['negative'],\n",
       " 'blaze': ['anger', 'negative'],\n",
       " 'bleak': ['negative', 'sadness'],\n",
       " 'bleeding': ['disgust', 'fear', 'negative', 'sadness'],\n",
       " 'blemish': ['anger', 'disgust', 'fear', 'negative', 'sadness'],\n",
       " 'bless': ['anticipation', 'joy', 'positive', 'trust'],\n",
       " 'blessed': ['joy', 'positive'],\n",
       " 'blessing': ['anticipation', 'joy', 'positive', 'trust'],\n",
       " 'blessings': ['anticipation', 'joy', 'positive', 'surprise', 'trust'],\n",
       " 'blight': ['disgust', 'fear', 'negative', 'sadness'],\n",
       " 'blighted': ['disgust', 'negative', 'sadness'],\n",
       " 'blind': ['negative'],\n",
       " 'blinded': ['negative'],\n",
       " 'blindfold': ['anticipation', 'fear', 'surprise'],\n",
       " 'blindly': ['negative', 'sadness'],\n",
       " 'blindness': ['negative', 'sadness'],\n",
       " 'bliss': ['joy', 'positive'],\n",
       " 'blissful': ['joy', 'positive'],\n",
       " 'blister': ['disgust', 'negative'],\n",
       " 'blitz': ['surprise'],\n",
       " 'bloated': ['disgust', 'negative'],\n",
       " 'blob': ['disgust', 'fear', 'negative'],\n",
       " 'blockade': ['anger', 'fear', 'negative', 'sadness'],\n",
       " 'bloodless': ['positive'],\n",
       " 'bloodshed': ['anger', 'disgust', 'fear', 'negative', 'sadness', 'surprise'],\n",
       " 'bloodthirsty': ['anger', 'disgust', 'fear', 'negative'],\n",
       " 'bloody': ['anger', 'disgust', 'fear', 'negative', 'sadness'],\n",
       " 'bloom': ['anticipation', 'joy', 'positive', 'trust'],\n",
       " 'blossom': ['joy', 'positive'],\n",
       " 'blot': ['negative'],\n",
       " 'blower': ['negative'],\n",
       " 'blowout': ['negative'],\n",
       " 'blue': ['sadness'],\n",
       " 'blues': ['fear', 'negative', 'sadness'],\n",
       " 'bluff': ['negative'],\n",
       " 'blunder': ['disgust', 'negative', 'sadness'],\n",
       " 'blur': ['negative'],\n",
       " 'blurred': ['negative'],\n",
       " 'blush': ['negative'],\n",
       " 'board': ['anticipation'],\n",
       " 'boast': ['negative', 'positive'],\n",
       " 'boasting': ['negative'],\n",
       " 'bodyguard': ['positive', 'trust'],\n",
       " 'bog': ['negative'],\n",
       " 'bogus': ['anger', 'disgust', 'negative'],\n",
       " 'boil': ['disgust', 'negative'],\n",
       " 'boilerplate': ['negative'],\n",
       " 'boisterous': ['anger', 'anticipation', 'joy', 'negative', 'positive'],\n",
       " 'bold': ['positive'],\n",
       " 'boldness': ['positive'],\n",
       " 'bolster': ['positive'],\n",
       " 'bomb': ['anger', 'fear', 'negative', 'sadness', 'surprise'],\n",
       " 'bombard': ['anger', 'fear', 'negative'],\n",
       " 'bombardment': ['anger', 'fear', 'negative'],\n",
       " 'bombed': ['disgust', 'negative'],\n",
       " 'bomber': ['fear', 'sadness'],\n",
       " 'bonanza': ['joy', 'positive'],\n",
       " 'bondage': ['fear', 'negative', 'sadness'],\n",
       " 'bonds': ['negative'],\n",
       " 'bonne': ['positive'],\n",
       " 'bonus': ['anticipation', 'joy', 'positive', 'surprise'],\n",
       " 'boo': ['negative'],\n",
       " 'booby': ['negative'],\n",
       " 'bookish': ['positive'],\n",
       " 'bookshop': ['positive'],\n",
       " 'bookworm': ['negative', 'positive'],\n",
       " 'boomerang': ['anticipation', 'trust'],\n",
       " 'boon': ['positive'],\n",
       " 'booze': ['negative'],\n",
       " 'bore': ['negative'],\n",
       " 'boredom': ['negative', 'sadness'],\n",
       " 'boring': ['negative'],\n",
       " 'borrower': ['negative'],\n",
       " 'bother': ['negative'],\n",
       " 'bothering': ['anger', 'negative', 'sadness'],\n",
       " 'bottom': ['negative', 'sadness'],\n",
       " 'bottomless': ['fear'],\n",
       " 'bound': ['negative'],\n",
       " 'bountiful': ['anticipation', 'joy', 'positive'],\n",
       " 'bounty': ['anticipation', 'joy', 'positive', 'trust'],\n",
       " 'bouquet': ['joy', 'positive', 'trust'],\n",
       " 'bout': ['anger', 'negative'],\n",
       " 'bovine': ['disgust', 'negative'],\n",
       " 'bowels': ['disgust'],\n",
       " 'boxing': ['anger'],\n",
       " 'boy': ['disgust', 'negative'],\n",
       " 'boycott': ['negative'],\n",
       " 'brag': ['negative'],\n",
       " 'brains': ['positive'],\n",
       " 'bran': ['disgust'],\n",
       " 'brandy': ['negative'],\n",
       " 'bravado': ['negative'],\n",
       " 'bravery': ['positive'],\n",
       " 'brawl': ['anger', 'disgust', 'fear', 'negative'],\n",
       " 'brazen': ['anger', 'negative'],\n",
       " 'breach': ['negative'],\n",
       " 'break': ['surprise'],\n",
       " 'breakdown': ['negative'],\n",
       " 'breakfast': ['positive'],\n",
       " 'breakneck': ['negative'],\n",
       " 'breakup': ['negative', 'sadness'],\n",
       " 'bribe': ['negative'],\n",
       " 'bribery': ['disgust', 'negative'],\n",
       " 'bridal': ['anticipation', 'joy', 'positive', 'trust'],\n",
       " 'bride': ['anticipation', 'joy', 'positive', 'trust'],\n",
       " 'bridegroom': ['anticipation', 'joy', 'positive', 'trust'],\n",
       " 'bridesmaid': ['joy', 'positive', 'trust'],\n",
       " 'brigade': ['fear', 'negative'],\n",
       " 'brighten': ['joy', 'positive', 'surprise', 'trust'],\n",
       " 'brightness': ['positive'],\n",
       " 'brilliant': ['anticipation', 'joy', 'positive', 'trust'],\n",
       " 'brimstone': ['anger', 'fear', 'negative'],\n",
       " 'bristle': ['negative'],\n",
       " 'broadside': ['anticipation', 'negative'],\n",
       " 'brocade': ['positive'],\n",
       " 'broil': ['anger', 'negative'],\n",
       " 'broke': ['fear', 'negative', 'sadness'],\n",
       " 'broken': ['anger', 'fear', 'negative', 'sadness'],\n",
       " 'brothel': ['disgust', 'negative'],\n",
       " 'brother': ['positive', 'trust'],\n",
       " 'brotherhood': ['positive', 'trust'],\n",
       " 'brotherly': ['anticipation', 'joy', 'positive', 'trust'],\n",
       " 'bruise': ['anticipation', 'negative'],\n",
       " 'brunt': ['anger', 'negative'],\n",
       " 'brutal': ['anger', 'fear', 'negative'],\n",
       " 'brutality': ['anger', 'fear', 'negative'],\n",
       " 'brute': ['anger', 'fear', 'negative', 'sadness'],\n",
       " 'buck': ['fear', 'negative', 'positive', 'surprise'],\n",
       " 'buddy': ['anticipation', 'joy', 'positive', 'trust'],\n",
       " 'budget': ['trust'],\n",
       " 'buffet': ['anger', 'negative'],\n",
       " 'bug': ['disgust', 'fear', 'negative'],\n",
       " 'bugaboo': ['anger', 'fear', 'negative', 'sadness'],\n",
       " 'bugle': ['anticipation'],\n",
       " 'build': ['positive'],\n",
       " 'building': ['positive'],\n",
       " 'bulbous': ['negative'],\n",
       " 'bulldog': ['positive'],\n",
       " 'bulletproof': ['positive'],\n",
       " 'bully': ['anger', 'fear', 'negative'],\n",
       " 'bum': ['disgust', 'negative', 'sadness'],\n",
       " 'bummer': ['anger', 'disgust', 'negative'],\n",
       " 'bunker': ['fear'],\n",
       " 'buoy': ['positive'],\n",
       " 'burdensome': ['fear', 'negative', 'sadness'],\n",
       " 'bureaucracy': ['negative', 'trust'],\n",
       " 'bureaucrat': ['disgust', 'negative'],\n",
       " 'burglar': ['disgust', 'fear', 'negative'],\n",
       " 'burglary': ['negative'],\n",
       " 'burial': ['anger', 'fear', 'negative', 'sadness'],\n",
       " 'buried': ['fear', 'negative', 'sadness'],\n",
       " 'burke': ['anger', 'disgust', 'fear', 'negative', 'sadness'],\n",
       " 'burlesque': ['surprise'],\n",
       " 'burnt': ['disgust', 'negative'],\n",
       " 'bursary': ['trust'],\n",
       " 'bury': ['sadness'],\n",
       " 'buss': ['joy', 'positive'],\n",
       " 'busted': ['anger', 'fear', 'negative'],\n",
       " 'butcher': ['anger', 'disgust', 'fear', 'negative'],\n",
       " 'butler': ['positive', 'trust'],\n",
       " 'butt': ['negative'],\n",
       " 'buttery': ['positive'],\n",
       " 'buxom': ['positive'],\n",
       " 'buzz': ['anticipation', 'fear', 'positive'],\n",
       " 'buzzed': ['negative'],\n",
       " 'bye': ['anticipation'],\n",
       " 'bylaw': ['trust'],\n",
       " 'cab': ['positive'],\n",
       " 'cabal': ['fear', 'negative'],\n",
       " 'cabinet': ['positive', 'trust'],\n",
       " 'cable': ['surprise'],\n",
       " 'cacophony': ['anger', 'disgust', 'negative'],\n",
       " 'cad': ['anger', 'disgust', 'negative'],\n",
       " 'cadaver': ['disgust', 'fear', 'negative', 'sadness', 'surprise'],\n",
       " 'cafe': ['positive'],\n",
       " 'cage': ['negative', 'sadness'],\n",
       " 'calamity': ['sadness'],\n",
       " 'calculating': ['negative'],\n",
       " 'calculation': ['anticipation'],\n",
       " 'calculator': ['positive', 'trust'],\n",
       " 'calf': ['joy', 'positive', 'trust'],\n",
       " 'callous': ['anger', 'disgust', 'negative'],\n",
       " 'calls': ['anticipation', 'negative', 'trust'],\n",
       " 'calm': ['positive'],\n",
       " 'camouflage': ['surprise'],\n",
       " 'camouflaged': ['surprise'],\n",
       " 'campaigning': ['anger', 'fear', 'negative'],\n",
       " 'canary': ['positive'],\n",
       " 'cancel': ['negative', 'sadness'],\n",
       " 'cancer': ['anger', 'disgust', 'fear', 'negative', 'sadness'],\n",
       " 'candid': ['anticipation', 'joy', 'positive', 'surprise', 'trust'],\n",
       " 'candidate': ['positive'],\n",
       " 'candied': ['positive'],\n",
       " 'cane': ['anger', 'fear'],\n",
       " 'canker': ['anger', 'disgust', 'negative'],\n",
       " 'cannibal': ['disgust', 'fear', 'negative'],\n",
       " 'cannibalism': ['disgust', 'negative'],\n",
       " 'cannon': ['anger', 'fear', 'negative'],\n",
       " 'canons': ['trust'],\n",
       " 'cap': ['anticipation', 'trust'],\n",
       " 'capitalist': ['positive'],\n",
       " 'captain': ['positive'],\n",
       " 'captivate': ['anticipation', 'joy', 'positive', 'surprise', 'trust'],\n",
       " 'captivating': ['positive'],\n",
       " 'captive': ['fear', 'negative', 'sadness'],\n",
       " 'captivity': ['negative', 'sadness'],\n",
       " 'captor': ['fear', 'negative'],\n",
       " 'capture': ['negative'],\n",
       " 'carcass': ['disgust', 'fear', 'negative', 'sadness'],\n",
       " 'carcinoma': ['fear', 'negative', 'sadness'],\n",
       " 'cardiomyopathy': ['fear', 'negative', 'sadness'],\n",
       " 'career': ['anticipation', 'positive'],\n",
       " 'careful': ['positive'],\n",
       " 'carefully': ['positive'],\n",
       " 'carelessness': ['anger', 'disgust', 'negative'],\n",
       " 'caress': ['positive'],\n",
       " 'caretaker': ['positive', 'trust'],\n",
       " 'caricature': ['negative'],\n",
       " 'caries': ['disgust', 'negative'],\n",
       " 'carnage': ['anger', 'disgust', 'fear', 'negative', 'sadness', 'surprise'],\n",
       " 'carnal': ['negative'],\n",
       " 'carnivorous': ['fear', 'negative'],\n",
       " 'carol': ['joy', 'positive', 'trust'],\n",
       " 'cartel': ['negative'],\n",
       " 'cartridge': ['fear'],\n",
       " 'cascade': ['positive'],\n",
       " 'case': ['fear', 'negative', 'sadness'],\n",
       " 'cash': ['anger', 'anticipation', 'fear', 'joy', 'positive', 'trust'],\n",
       " 'cashier': ['trust'],\n",
       " 'casket': ['fear', 'negative', 'sadness'],\n",
       " 'caste': ['negative'],\n",
       " 'casualty': ['anger', 'fear', 'negative', 'sadness'],\n",
       " 'cataract': ['anticipation', 'fear', 'negative', 'sadness'],\n",
       " 'catastrophe': ['anger',\n",
       "  'disgust',\n",
       "  'fear',\n",
       "  'negative',\n",
       "  'sadness',\n",
       "  'surprise'],\n",
       " 'catch': ['surprise'],\n",
       " 'catechism': ['disgust'],\n",
       " 'categorical': ['positive'],\n",
       " 'cater': ['positive'],\n",
       " 'cathartic': ['positive'],\n",
       " 'cathedral': ['joy', 'positive', 'trust'],\n",
       " 'catheter': ['negative'],\n",
       " 'caution': ['anger', 'anticipation', 'fear', 'negative'],\n",
       " 'cautionary': ['fear'],\n",
       " 'cautious': ['anticipation', 'fear', 'positive', 'trust'],\n",
       " 'cautiously': ['fear', 'positive'],\n",
       " 'cede': ['negative'],\n",
       " 'celebrated': ['anticipation', 'joy', 'positive'],\n",
       " 'celebrating': ['anticipation', 'joy', 'positive'],\n",
       " 'celebration': ['anticipation', 'joy', 'positive', 'surprise', 'trust'],\n",
       " 'celebrity': ['anger',\n",
       "  'anticipation',\n",
       "  'disgust',\n",
       "  'joy',\n",
       "  'negative',\n",
       "  'positive',\n",
       "  'surprise',\n",
       "  'trust'],\n",
       " 'celestial': ['anticipation', 'joy', 'positive'],\n",
       " 'cement': ['anticipation', 'trust'],\n",
       " 'cemetery': ['fear', 'negative', 'sadness'],\n",
       " 'censor': ['anger', 'disgust', 'fear', 'negative', 'trust'],\n",
       " 'censure': ['negative'],\n",
       " 'center': ['positive', 'trust'],\n",
       " 'centurion': ['positive'],\n",
       " 'cerebral': ['positive'],\n",
       " 'ceremony': ['joy', 'positive', 'surprise'],\n",
       " 'certainty': ['positive'],\n",
       " 'certify': ['trust'],\n",
       " 'cess': ['disgust', 'negative'],\n",
       " 'cessation': ['negative'],\n",
       " 'chaff': ['anger', 'fear', 'negative'],\n",
       " 'chafing': ['negative'],\n",
       " 'chagrin': ['disgust', 'negative', 'sadness'],\n",
       " 'chairman': ['positive', 'trust'],\n",
       " 'chairwoman': ['positive', 'trust'],\n",
       " 'challenge': ['anger', 'fear', 'negative'],\n",
       " 'champion': ['anticipation', 'joy', 'positive', 'trust'],\n",
       " 'chance': ['surprise'],\n",
       " 'chancellor': ['trust'],\n",
       " 'change': ['fear'],\n",
       " 'changeable': ['anticipation', 'surprise'],\n",
       " 'chant': ['anger', 'anticipation', 'joy', 'positive', 'surprise'],\n",
       " 'chaos': ['anger', 'fear', 'negative', 'sadness'],\n",
       " 'chaotic': ['anger', 'negative'],\n",
       " 'chaplain': ['trust'],\n",
       " 'charade': ['negative'],\n",
       " 'chargeable': ['fear', 'negative', 'sadness'],\n",
       " 'charger': ['positive'],\n",
       " 'charitable': ['anticipation', 'joy', 'positive', 'trust'],\n",
       " 'charity': ['joy', 'positive'],\n",
       " 'charm': ['positive'],\n",
       " 'charmed': ['joy', 'negative', 'positive'],\n",
       " 'charming': ['positive'],\n",
       " 'chart': ['trust'],\n",
       " 'chase': ['negative'],\n",
       " 'chasm': ['fear'],\n",
       " 'chastisement': ['negative'],\n",
       " 'chastity': ['anticipation', 'positive', 'trust'],\n",
       " 'chattering': ['positive'],\n",
       " 'chatty': ['negative'],\n",
       " 'cheap': ['negative'],\n",
       " 'cheat': ['anger', 'disgust', 'negative'],\n",
       " 'checklist': ['positive', 'trust'],\n",
       " 'cheer': ['anticipation', 'joy', 'positive', 'surprise', 'trust'],\n",
       " 'cheerful': ['joy', 'positive', 'surprise'],\n",
       " 'cheerfulness': ['anticipation', 'joy', 'positive', 'trust'],\n",
       " 'cheering': ['joy', 'positive'],\n",
       " 'cheery': ['anticipation', 'joy', 'positive'],\n",
       " 'cheesecake': ['negative'],\n",
       " 'chemist': ['positive', 'trust'],\n",
       " 'cherish': ['anticipation', 'joy', 'positive', 'surprise', 'trust'],\n",
       " 'cherry': ['positive'],\n",
       " 'chicane': ['anticipation', 'negative', 'surprise', 'trust'],\n",
       " 'chicken': ['fear'],\n",
       " 'chieftain': ['positive'],\n",
       " 'child': ['anticipation', 'joy', 'positive'],\n",
       " 'childhood': ['joy', 'positive'],\n",
       " 'childish': ['negative'],\n",
       " 'chilly': ['negative'],\n",
       " 'chimera': ['fear', 'surprise'],\n",
       " 'chirp': ['joy', 'positive'],\n",
       " 'chisel': ['positive'],\n",
       " 'chivalry': ['positive'],\n",
       " 'chloroform': ['negative'],\n",
       " 'chocolate': ['anticipation', 'joy', 'positive', 'trust'],\n",
       " 'choice': ['positive'],\n",
       " 'choir': ['joy', 'positive', 'trust'],\n",
       " 'choke': ['anger', 'negative', 'sadness'],\n",
       " 'cholera': ['disgust', 'fear', 'negative', 'sadness'],\n",
       " 'chop': ['negative'],\n",
       " 'choral': ['joy', 'positive'],\n",
       " 'chore': ['negative'],\n",
       " 'chorus': ['positive'],\n",
       " 'chosen': ['positive'],\n",
       " 'chowder': ['positive'],\n",
       " 'chronic': ['negative', 'sadness'],\n",
       " 'chronicle': ['positive', 'trust'],\n",
       " 'chuckle': ['anticipation', 'joy', 'positive', 'surprise', 'trust'],\n",
       " 'church': ['anticipation', 'joy', 'positive', 'trust'],\n",
       " 'cider': ['positive'],\n",
       " 'cigarette': ['negative'],\n",
       " 'circumcision': ['positive'],\n",
       " 'circumvention': ['negative', 'positive'],\n",
       " 'citizen': ['positive'],\n",
       " 'civil': ['positive'],\n",
       " 'civility': ['positive'],\n",
       " 'civilization': ['positive', 'trust'],\n",
       " 'civilized': ['joy', 'positive', 'trust'],\n",
       " 'claimant': ['anger', 'disgust'],\n",
       " 'clairvoyant': ['positive'],\n",
       " 'clamor': ['anger', 'anticipation', 'disgust', 'negative', 'surprise'],\n",
       " 'clan': ['trust'],\n",
       " 'clap': ['anticipation', 'joy', 'positive', 'trust'],\n",
       " 'clarify': ['positive'],\n",
       " 'clash': ['anger', 'negative'],\n",
       " 'clashing': ['anger', 'fear', 'negative'],\n",
       " 'classic': ['positive'],\n",
       " 'classical': ['positive'],\n",
       " 'classics': ['joy', 'positive'],\n",
       " 'classify': ['positive'],\n",
       " 'claw': ['anger', 'fear', 'negative'],\n",
       " 'clean': ['joy', 'positive', 'trust'],\n",
       " 'cleaning': ['positive'],\n",
       " 'cleanliness': ['positive'],\n",
       " 'cleanly': ['positive'],\n",
       " 'cleanse': ['positive'],\n",
       " 'cleansing': ['positive'],\n",
       " 'clearance': ['positive', 'trust'],\n",
       " 'clearness': ['positive'],\n",
       " 'cleave': ['fear'],\n",
       " 'clerical': ['positive', 'trust'],\n",
       " 'clever': ['positive'],\n",
       " 'cleverness': ['positive'],\n",
       " 'cliff': ['fear'],\n",
       " 'climax': ['anticipation', 'joy', 'positive', 'surprise', 'trust'],\n",
       " 'clock': ['anticipation'],\n",
       " 'cloister': ['negative'],\n",
       " 'closeness': ['joy', 'positive', 'trust'],\n",
       " ...}"
      ]
     },
     "execution_count": 8,
     "metadata": {},
     "output_type": "execute_result"
    }
   ],
   "source": [
    "emotion_dict = get_nrc_data()\n",
    "emotion_dict"
   ]
  },
  {
   "cell_type": "markdown",
   "metadata": {},
   "source": [
    "<h2>Analyzing yelp reviews</h2>\n",
    "<h4>Caveat: We're only looking at one review snippet for each restaurant</h4>\n",
    "<h4>This is an old way, you would better to follow steps after \"Extract Snippets\" part to apply a Yelp API.</h4>\n",
    "<ol>\n",
    "<li>Download yelp python \"pip install yelp\"\n",
    "<li>Register with yelp https://www.yelp.com/developers/manage_api_keys (use anything for the host)\n",
    "<li>Copy the various keys into variables as below\n",
    "</ol>\n",
    "<h4>We'll see what we can figure out re reviews of restaurants close to Columbia</h4>\n",
    "<h4>First let's read in the yelp keys</h4>"
   ]
  },
  {
   "cell_type": "code",
   "execution_count": 10,
   "metadata": {},
   "outputs": [],
   "source": [
    "CONSUMER_KEY = \"\"\n",
    "CONSUMER_SECRET = \"\"\n",
    "TOKEN = \"\"\n",
    "TOKEN_SECRET = \"\""
   ]
  },
  {
   "cell_type": "markdown",
   "metadata": {},
   "source": [
    "<h2>I've saved my keys in a file and will use those. Don't run the next cell!</h2>"
   ]
  },
  {
   "cell_type": "code",
   "execution_count": 12,
   "metadata": {},
   "outputs": [],
   "source": [
    "with open('yelp_keys.txt','r') as f:\n",
    "    count = 0\n",
    "    for line in f:\n",
    "        if count == 0:\n",
    "            CONSUMER_KEY = line.strip()\n",
    "        if count == 1:\n",
    "            CONSUMER_SECRET = line.strip()\n",
    "        if count == 2:\n",
    "            TOKEN = line.strip()\n",
    "        if count == 3:\n",
    "            TOKEN_SECRET = line.strip()\n",
    "        count+=1\n"
   ]
  },
  {
   "cell_type": "markdown",
   "metadata": {},
   "source": [
    "<h4>We need to do a few things</h4>\n",
    "<ul>\n",
    "<li>Get the latitude and longitude of our location\n",
    "<li>Set up the parameters for what data we want from yelp\n",
    "<li>Query yelp by passing authentication info as well as our parameters\n",
    "<li>Extract review snippets\n",
    "<li>And append into a containing (restaurant,review snippet) tuples\n",
    "</ul>"
   ]
  },
  {
   "cell_type": "code",
   "execution_count": 13,
   "metadata": {},
   "outputs": [],
   "source": [
    "# #We'll use the get_lat_lng function we wrote way back in week 3\n",
    "# def get_lat_lng(address):\n",
    "#     url = 'https://maps.googleapis.com/maps/api/geocode/json?address='\n",
    "#     url += address\n",
    "#     import requests\n",
    "#     response = requests.get(url)\n",
    "#     if not (response.status_code == 200):\n",
    "#         return None\n",
    "#     data = response.json()\n",
    "#     if not( data['status'] == 'OK'):\n",
    "#         return None\n",
    "#     main_result = data['results'][0]\n",
    "#     geometry = main_result['geometry']\n",
    "#     latitude = geometry['location']['lat']\n",
    "#     longitude = geometry['location']['lng']\n",
    "#     return latitude,longitude"
   ]
  },
  {
   "cell_type": "code",
   "execution_count": 23,
   "metadata": {},
   "outputs": [],
   "source": [
    "# Because the Bing Maps API is free to apply, here we use Bing map rather than Google map to get the coordinates.\n",
    "# Remember to paste your own Bing Map API to the varible \"ApiKey\"\n",
    "def get_lat_lng(address):\n",
    "    import urllib.request\n",
    "    import json\n",
    "    ApiKey = \"Your own API Key\"\n",
    "    encodeaddress =urllib.parse.quote(address, safe='')\n",
    "    url = \"http://dev.virtualearth.net/REST/v1/Locations?query=%s&key=%s\"%(encodeaddress,ApiKey)\n",
    "    request = urllib.request.Request(url)\n",
    "    response = urllib.request.urlopen(request)\n",
    "    r = response.read().decode(encoding=\"utf-8\")\n",
    "    result = json.loads(r)\n",
    "    latitude = result['resourceSets'][0]['resources'][0]['point']['coordinates'][0]\n",
    "    longtitude = result['resourceSets'][0]['resources'][0]['point']['coordinates'][1]\n",
    "    return latitude,longtitude"
   ]
  },
  {
   "cell_type": "code",
   "execution_count": 24,
   "metadata": {},
   "outputs": [
    {
     "data": {
      "text/plain": [
       "(40.8081588745117, -73.9636535644531)"
      ]
     },
     "execution_count": 24,
     "metadata": {},
     "output_type": "execute_result"
    }
   ],
   "source": [
    "get_lat_lng(\"Columbia University\")"
   ]
  },
  {
   "cell_type": "code",
   "execution_count": 25,
   "metadata": {},
   "outputs": [],
   "source": [
    "lat,long = get_lat_lng(\"Columbia University\")"
   ]
  },
  {
   "cell_type": "code",
   "execution_count": 26,
   "metadata": {},
   "outputs": [],
   "source": [
    "#Now set up our search parameters\n",
    "def set_search_parameters(lat,long,radius):\n",
    "  #See the Yelp API for more details\n",
    "    params = {}\n",
    "    params[\"term\"] = \"restaurant\"\n",
    "    params[\"ll\"] = \"{},{}\".format(str(lat),str(long))\n",
    "    params[\"radius_filter\"] = str(radius) #The distance around our point in metres\n",
    "    params[\"limit\"] = \"10\" #Limit ourselves to 10 results\n",
    " \n",
    "    return params"
   ]
  },
  {
   "cell_type": "code",
   "execution_count": 27,
   "metadata": {},
   "outputs": [
    {
     "data": {
      "text/plain": [
       "{'term': 'restaurant',\n",
       " 'll': '40.8081588745117,-73.9636535644531',\n",
       " 'radius_filter': '200',\n",
       " 'limit': '10'}"
      ]
     },
     "execution_count": 27,
     "metadata": {},
     "output_type": "execute_result"
    }
   ],
   "source": [
    "set_search_parameters(lat,long,200)"
   ]
  },
  {
   "cell_type": "markdown",
   "metadata": {},
   "source": [
    "<h4>Write the function that queries yelp. We'll use rauth library to handle authentication</h4>"
   ]
  },
  {
   "cell_type": "code",
   "execution_count": null,
   "metadata": {},
   "outputs": [],
   "source": [
    "!pip install rauth"
   ]
  },
  {
   "cell_type": "code",
   "execution_count": null,
   "metadata": {},
   "outputs": [],
   "source": [
    "def get_results(params):\n",
    "    import rauth\n",
    "    consumer_key = CONSUMER_KEY\n",
    "    consumer_secret = CONSUMER_SECRET\n",
    "    token = TOKEN\n",
    "    token_secret = TOKEN_SECRET\n",
    "\n",
    "    session = rauth.OAuth1Session(\n",
    "    consumer_key = consumer_key\n",
    "    ,consumer_secret = consumer_secret\n",
    "    ,access_token = token\n",
    "    ,access_token_secret = token_secret)\n",
    "\n",
    "    request = session.get(\"http://api.yelp.com/v2/search\",params=params)\n",
    "    #Transforms the JSON API response into a Python dictionary\n",
    "    data = request.json()\n",
    "    session.close()\n",
    "\n",
    "    return data\n"
   ]
  },
  {
   "cell_type": "code",
   "execution_count": null,
   "metadata": {},
   "outputs": [],
   "source": [
    "#Get the results\n",
    "response = get_results(set_search_parameters(get_lat_lng(\"Community Food and Juice\")[0],get_lat_lng(\"Community Food and Juice\")[1],200))\n",
    "response"
   ]
  },
  {
   "cell_type": "markdown",
   "metadata": {},
   "source": [
    "<h4>Extract snippets</h4>"
   ]
  },
  {
   "cell_type": "code",
   "execution_count": null,
   "metadata": {},
   "outputs": [],
   "source": [
    "all_snippets = list()\n",
    "for business in response['businesses']:\n",
    "    name = business['name']\n",
    "    snippet = business['snippet_text']\n",
    "    id = business['id']\n",
    "    all_snippets.append((id,name,snippet))\n",
    "all_snippets"
   ]
  },
  {
   "cell_type": "markdown",
   "metadata": {},
   "source": [
    "<h4>Functionalize this, for rauth method</h4>"
   ]
  },
  {
   "cell_type": "code",
   "execution_count": 2,
   "metadata": {},
   "outputs": [],
   "source": [
    "def get_snippets(response):\n",
    "    all_snippets = list()\n",
    "    for business in response['businesses']:\n",
    "        name = business['name']\n",
    "        snippet = business['snippet_text']\n",
    "        id = business['id']\n",
    "        all_snippets.append((id,name,snippet))\n",
    "    return all_snippets"
   ]
  },
  {
   "cell_type": "markdown",
   "metadata": {},
   "source": [
    "<h4>The Yelp API seems to be changed, you'd better follow these steps to apply an API Key.</h4>\n",
    "<li>https://www.yelp.com/developers/documentation/v3\n",
    "<li>log into yelp (top right hand corner of the page)\n",
    "<li>Click <span style=\"color:blue\">Create App</span> on the left hand menu bar\n",
    "<li>Enter app info (leave optional stuff blank)\n",
    "<li>Copy the client id and client secret to a secure place (this notebook should do the trick or use a text file!)"
   ]
  },
  {
   "cell_type": "code",
   "execution_count": null,
   "metadata": {},
   "outputs": [],
   "source": [
    "with open('./yelp_keys.txt','r') as f:\n",
    "    count = 0\n",
    "    for line in f:\n",
    "        if count == 0:\n",
    "            CLIENT_ID = line.strip()\n",
    "        if count == 1:\n",
    "            API_KEY = line.strip()\n",
    "        count+=1"
   ]
  },
  {
   "cell_type": "code",
   "execution_count": null,
   "metadata": {},
   "outputs": [],
   "source": [
    "print(CLIENT_ID,API_KEY)"
   ]
  },
  {
   "cell_type": "code",
   "execution_count": null,
   "metadata": {},
   "outputs": [],
   "source": [
    "# API constants, you shouldn't have to change these.\n",
    "API_HOST = 'https://api.yelp.com' #The API url header\n",
    "SEARCH_PATH = '/v3/businesses/search' #The path for an API request to find businesses\n",
    "BUSINESS_PATH = '/v3/businesses/'  # The path to get data for a single business"
   ]
  },
  {
   "cell_type": "markdown",
   "metadata": {},
   "source": [
    "<h3>Now we can get reviews</h3>\n",
    "<li>get_reviews(location,number=15) returns the reviews of \"number\" (default=15) restaurants in the vicinity of \"location\"\n",
    "<li>First, we'll write a function that gets  restaurants in the vicinity of location"
   ]
  },
  {
   "cell_type": "code",
   "execution_count": null,
   "metadata": {},
   "outputs": [],
   "source": [
    "def get_restaurants(api_key,location,number=15):\n",
    "    import requests\n",
    "    \n",
    "    #First we get the access token\n",
    "    #Set up the search data dictionary\n",
    "    search_data = {\n",
    "    'term': \"restaurant\",\n",
    "    'location': location.replace(' ', '+'),\n",
    "    'limit': number\n",
    "    }\n",
    "    url = API_HOST + SEARCH_PATH\n",
    "    headers = {\n",
    "        'Authorization': 'Bearer %s' % api_key,\n",
    "    }\n",
    "    response = requests.request('GET', url, headers=headers, params=search_data).json()\n",
    "    businesses = response.get('businesses')\n",
    "    return businesses"
   ]
  },
  {
   "cell_type": "code",
   "execution_count": null,
   "metadata": {},
   "outputs": [],
   "source": [
    "get_restaurants(API_KEY,\"Columbia University, New York, NY\")"
   ]
  },
  {
   "cell_type": "markdown",
   "metadata": {},
   "source": [
    "<h4>Then a function that, given a business id, returns a string containing the reviews</h4>"
   ]
  },
  {
   "cell_type": "code",
   "execution_count": null,
   "metadata": {},
   "outputs": [],
   "source": [
    "def get_business_review(api_key,business_id):\n",
    "    import json\n",
    "    import requests\n",
    "    business_path = BUSINESS_PATH + business_id+\"/reviews\"\n",
    "    url = API_HOST + business_path\n",
    "\n",
    "    headers = {\n",
    "        'Authorization': 'Bearer %s' % api_key,\n",
    "    }\n",
    "\n",
    "\n",
    "    response = requests.request('GET', url, headers=headers).json()\n",
    "   \n",
    "    review_text = ''\n",
    "    for review in response['reviews']:\n",
    "        review_text += review['text']\n",
    "    return review_text"
   ]
  },
  {
   "cell_type": "code",
   "execution_count": null,
   "metadata": {},
   "outputs": [],
   "source": [
    "get_business_review(API_KEY,'flat-top-new-york')"
   ]
  },
  {
   "cell_type": "markdown",
   "metadata": {},
   "source": [
    "<h4>Finally, put all this together to get review data for the set of restaurants</h4>"
   ]
  },
  {
   "cell_type": "code",
   "execution_count": null,
   "metadata": {},
   "outputs": [],
   "source": [
    "def get_reviews(location,number=15):\n",
    "\n",
    "    restaurants = get_restaurants(API_KEY,location,number)\n",
    "\n",
    "    if not restaurants:\n",
    "        return None\n",
    "    review_list = list()\n",
    "    for restaurant in restaurants:\n",
    "        restaurant_name = restaurant['name']\n",
    "        restaurant_id = restaurant['id']\n",
    "        review_text = get_business_review(API_KEY,restaurant_id)\n",
    "        \n",
    "        review_list.append((restaurant_id,restaurant_name,review_text))\n",
    "    return review_list"
   ]
  },
  {
   "cell_type": "code",
   "execution_count": null,
   "metadata": {},
   "outputs": [],
   "source": [
    "all_snippets = get_reviews(\"Columbia University, New York, NY\")"
   ]
  },
  {
   "cell_type": "markdown",
   "metadata": {},
   "source": [
    "If you don't want to apply a Yelp API key, you can also use the snippets below for the further analysis."
   ]
  },
  {
   "cell_type": "code",
   "execution_count": null,
   "metadata": {},
   "outputs": [],
   "source": [
    "all_snippets = [('shaking-crab-new-york-4',\n",
    "  'Shaking Crab',\n",
    "  'This was an experience! Eating crab/lobster/ shrimp etc with hands! Bibs... gloves.. the works, loved every second. If you want to experience your food...'),\n",
    " ('dig-inn-new-york-14',\n",
    "  'Dig Inn',\n",
    "  \"This is a delicious and healthy meal. It's hard to get takeout with such healthy and quality ingredients. A friend introduced me to this place the other...\"),\n",
    " ('community-food-and-juice-new-york',\n",
    "  'Community Food & Juice',\n",
    "  \"Mention that you're going to Community as a Barnard student and people will assume the following about you: \\n\\n(a) you have money to blow on a frittata that...\"),\n",
    " ('le-monde-new-york-3',\n",
    "  'Le Monde',\n",
    "  'The gist: a perfectly average restaurant with decent food and service \\n\\nThe ambiance: The restaurant has a nice outdoor seating area and the inside is cool...'),\n",
    " ('junzi-kitchen-new-york',\n",
    "  'Junzi Kitchen',\n",
    "  \"Junzi Kitchen is a winner in my book! Think chipotle but with noodles or chun bing in place of burrito bowls and burritos- it's fast, healthy, customizable,...\"),\n",
    " ('mill-korean-new-york',\n",
    "  'Mill Korean',\n",
    "  'Two of us stopped by for lunch. We were seated in a tight nook even though I had a large instrument on my back, and the rest of the place was largely empty....'),\n",
    " ('symposium-greek-restaurant-new-york',\n",
    "  'Symposium Greek Restaurant',\n",
    "  'As a parent visiting my girl at Barnard, there has been a surprising lack of interesting places to eat in the area.  I have really driven around, asked and...'),\n",
    " ('traditional-chinese-food-new-york-2',\n",
    "  'Traditional Chinese Food',\n",
    "  'The Chinese food they sell in these trucks is really authentic! They offer wide variety of Chinese dishes: tomato&egg over rice (my personal favorite),...'),\n",
    " ('sweetgreen-new-york-6',\n",
    "  'sweetgreen',\n",
    "  \"Sweetgreen is SO good.\\n\\nThey are a little slow as many other Yelper's have mentioned, but I usually go when I'm not in a rush and when it's not lunch time....\"),\n",
    " ('antojitos-mexicano-el-taco-taco-new-york',\n",
    "  'Antojitos Mexicano El Taco Taco',\n",
    "  'Terrific tacos!  I had the Carnitas and the al Pastor. Very flavorful with juicy meat. Tacos come with two tortillas so 2 tacos became 4. Good thing given...')]"
   ]
  },
  {
   "cell_type": "markdown",
   "metadata": {},
   "source": [
    "<h2>A function that analyzes emotions</h2>"
   ]
  },
  {
   "cell_type": "code",
   "execution_count": null,
   "metadata": {},
   "outputs": [],
   "source": [
    "def emotion_analyzer(text,emotion_dict=emotion_dict):\n",
    "    #Set up the result dictionary\n",
    "    emotions = {x for y in emotion_dict.values() for x in y}\n",
    "    emotion_count = dict()\n",
    "    for emotion in emotions:\n",
    "        emotion_count[emotion] = 0\n",
    "\n",
    "    #Analyze the text and normalize by total number of words\n",
    "    total_words = len(text.split())\n",
    "    for word in text.split():\n",
    "        if emotion_dict.get(word):\n",
    "            for emotion in emotion_dict.get(word):\n",
    "                emotion_count[emotion] += 1/len(text.split())\n",
    "    return emotion_count"
   ]
  },
  {
   "cell_type": "markdown",
   "metadata": {},
   "source": [
    "<h4>Now we can analyze the emotional content of the review snippets</h4>"
   ]
  },
  {
   "cell_type": "code",
   "execution_count": null,
   "metadata": {},
   "outputs": [],
   "source": [
    "print(\"%-12s %1s\\t%1s %1s %1s %1s   %1s %1s %1s %1s\"%(\n",
    "        \"restaurant\",\"fear\",\"trust\",\"negative\",\"positive\",\"joy\",\"disgust\",\"anticip\",\n",
    "        \"sadness\",\"surprise\"))\n",
    "        \n",
    "for snippet in all_snippets:\n",
    "    text = snippet[2]\n",
    "    result = emotion_analyzer(text)\n",
    "    print(\"%-12s %1.2f\\t%1.2f\\t%1.2f\\t%1.2f\\t%1.2f\\t%1.2f\\t%1.2f\\t%1.2f\\t%1.2f\"%(\n",
    "        snippet[1][0:10],result['fear'],result['trust'],\n",
    "          result['negative'],result['positive'],result['joy'],result['disgust'],\n",
    "          result['anticipation'],result['sadness'],result['surprise']))\n"
   ]
  },
  {
   "cell_type": "markdown",
   "metadata": {},
   "source": [
    "<h4>Let's functionalize this</h4>"
   ]
  },
  {
   "cell_type": "code",
   "execution_count": null,
   "metadata": {},
   "outputs": [],
   "source": [
    "def comparative_emotion_analyzer(text_tuples):\n",
    "    print(\"%-20s %1s\\t%1s %1s %1s %1s   %1s %1s %1s %1s\"%(\n",
    "            \"restaurant\",\"fear\",\"trust\",\"negative\",\"positive\",\"joy\",\"disgust\",\"anticip\",\n",
    "            \"sadness\",\"surprise\"))\n",
    "        \n",
    "    for text_tuple in text_tuples:\n",
    "        text = text_tuple[2] \n",
    "        result = emotion_analyzer(text)\n",
    "        print(\"%-20s %1.2f\\t%1.2f\\t%1.2f\\t%1.2f\\t%1.2f\\t%1.2f\\t%1.2f\\t%1.2f\\t%1.2f\"%(\n",
    "            text_tuple[1][0:20],result['fear'],result['trust'],\n",
    "              result['negative'],result['positive'],result['joy'],result['disgust'],\n",
    "              result['anticipation'],result['sadness'],result['surprise']))\n",
    "        \n",
    "#And test it        \n",
    "comparative_emotion_analyzer(all_snippets)"
   ]
  },
  {
   "cell_type": "markdown",
   "metadata": {},
   "source": [
    "<h4>And let's functionalize the yelp stuff as well</h4>"
   ]
  },
  {
   "cell_type": "code",
   "execution_count": null,
   "metadata": {},
   "outputs": [],
   "source": [
    "# def analyze_nearby_restaurants(address,radius):\n",
    "#     lat,long = get_lat_lng(address)\n",
    "#     params = set_search_parameters(lat,long,radius)\n",
    "#     response = get_results(params)\n",
    "#     snippets = get_snippets(response)\n",
    "#     comparative_emotion_analyzer(snippets)\n",
    "\n",
    "# #And test it    \n",
    "# analyze_nearby_restaurants(\"Community Food and Juice\",200)\n",
    "    "
   ]
  },
  {
   "cell_type": "markdown",
   "metadata": {},
   "source": [
    "<h4>The above code is for rauth method, if you have new Yelp API key, please run below code.</h4>"
   ]
  },
  {
   "cell_type": "code",
   "execution_count": null,
   "metadata": {},
   "outputs": [],
   "source": [
    "def analyze_nearby_restaurants(address,number):\n",
    "    snippets = get_reviews(address,number)\n",
    "    comparative_emotion_analyzer(snippets)\n",
    "\n",
    "#And test it    \n",
    "analyze_nearby_restaurants(\"Community Food and Juice\",20)"
   ]
  },
  {
   "cell_type": "code",
   "execution_count": null,
   "metadata": {},
   "outputs": [],
   "source": [
    "#Test it on some other place\n",
    "analyze_nearby_restaurants(\"221 Baker Street\",20)"
   ]
  },
  {
   "cell_type": "markdown",
   "metadata": {},
   "source": [
    "<h2>Simple analysis: Word Clouds</h2>"
   ]
  },
  {
   "cell_type": "markdown",
   "metadata": {},
   "source": [
    "<h4>Let's see what sort of words the snippets use</h4>\n",
    "<li>First we'll combine all snippets into one string\n",
    "<li>Then we'll generate a word cloud using the words in the string\n",
    "<li>You may need to install wordcloud using pip\n",
    "<li>pip install wordcloud"
   ]
  },
  {
   "cell_type": "code",
   "execution_count": null,
   "metadata": {},
   "outputs": [],
   "source": [
    "all_snippets"
   ]
  },
  {
   "cell_type": "code",
   "execution_count": null,
   "metadata": {},
   "outputs": [],
   "source": [
    "text=''\n",
    "for snippet in all_snippets:\n",
    "    text+=snippet[2]\n",
    "text"
   ]
  },
  {
   "cell_type": "code",
   "execution_count": null,
   "metadata": {},
   "outputs": [],
   "source": [
    "from wordcloud import WordCloud, STOPWORDS\n",
    "import matplotlib.pyplot as plt\n",
    "%matplotlib inline\n",
    "\n",
    "wordcloud = WordCloud(stopwords=STOPWORDS,background_color='white',width=3000,height=3000).generate(text)\n",
    "\n",
    "\n",
    "plt.imshow(wordcloud)\n",
    "plt.axis('off')\n",
    "plt.show()"
   ]
  },
  {
   "cell_type": "markdown",
   "metadata": {},
   "source": [
    "<h2>Let's do a detailed comparison of local restaurants</h2>\n",
    "<h4>I've saved a few reviews for each restaurant in four directories</h4>\n",
    "<h4>We'll use the PlainTextCorpusReader to read these directories</h4>\n",
    "<li>PlainTextCorpusReader reads all matching files in a directory and saves them by file-ids"
   ]
  },
  {
   "cell_type": "code",
   "execution_count": null,
   "metadata": {},
   "outputs": [],
   "source": [
    "import nltk\n",
    "from nltk.corpus import PlaintextCorpusReader\n",
    "community_root = \"data/community\"\n",
    "le_monde_root = \"data/le_monde\"\n",
    "community_files = \"community.*\"\n",
    "le_monde_files = \"le_monde.*\"\n",
    "heights_root = \"data/heights\"\n",
    "heights_files = \"heights.*\"\n",
    "amigos_root = \"data/amigos\"\n",
    "amigos_files = \"amigos.*\"\n",
    "community_data = PlaintextCorpusReader(community_root,community_files)\n",
    "le_monde_data = PlaintextCorpusReader(le_monde_root,le_monde_files)\n",
    "heights_data = PlaintextCorpusReader(heights_root,heights_files)\n",
    "amigos_data = PlaintextCorpusReader(amigos_root,amigos_files)"
   ]
  },
  {
   "cell_type": "code",
   "execution_count": null,
   "metadata": {},
   "outputs": [],
   "source": [
    "amigos_data.fileids()"
   ]
  },
  {
   "cell_type": "code",
   "execution_count": null,
   "metadata": {},
   "outputs": [],
   "source": [
    "amigos_data.raw()"
   ]
  },
  {
   "cell_type": "markdown",
   "metadata": {},
   "source": [
    "<h4>We need to modify comparitive_emotion_analyzer to tell it where the restaurant name and the text is in the tuple</h4>"
   ]
  },
  {
   "cell_type": "code",
   "execution_count": null,
   "metadata": {},
   "outputs": [],
   "source": [
    "def comparative_emotion_analyzer(text_tuples,name_location=1,text_location=2):\n",
    "    print(\"%-20s %1s\\t%1s %1s %1s %1s   %1s %1s %1s %1s\"%(\n",
    "            \"restaurant\",\"fear\",\"trust\",\"negative\",\"positive\",\"joy\",\"disgust\",\"anticip\",\n",
    "            \"sadness\",\"surprise\"))\n",
    "        \n",
    "    for text_tuple in text_tuples:\n",
    "        text = text_tuple[text_location] \n",
    "        result = emotion_analyzer(text)\n",
    "        print(\"%-20s %1.2f\\t%1.2f\\t%1.2f\\t%1.2f\\t%1.2f\\t%1.2f\\t%1.2f\\t%1.2f\\t%1.2f\"%(\n",
    "            text_tuple[name_location][0:20],result['fear'],result['trust'],\n",
    "              result['negative'],result['positive'],result['joy'],result['disgust'],\n",
    "              result['anticipation'],result['sadness'],result['surprise']))\n",
    "        \n",
    "#And test it        \n",
    "comparative_emotion_analyzer(all_snippets)"
   ]
  },
  {
   "cell_type": "code",
   "execution_count": null,
   "metadata": {},
   "outputs": [],
   "source": [
    "restaurant_data = [('community',community_data.raw()),('le monde',le_monde_data.raw())\n",
    "                  ,('heights',heights_data.raw()), ('amigos',amigos_data.raw())]\n",
    "comparative_emotion_analyzer(restaurant_data,0,1)"
   ]
  },
  {
   "cell_type": "markdown",
   "metadata": {},
   "source": [
    "<h2>Simple Analysis: Complexity</h2>\n",
    "<h4>We'll look at four complexity factors</h4>\n",
    "<li>average word length: longer words adds to complexity\n",
    "<li>average sentence length: longer sentences are more complex (unless the text is rambling!)\n",
    "<li>vocabulary: the ratio of unique words used to the total number of words (more variety, more complexity)"
   ]
  },
  {
   "cell_type": "markdown",
   "metadata": {},
   "source": [
    "<b>token:</b> A sequence (or group) of characters of interest. For e.g., in the below analysis, a token = a word\n",
    "<li>Generally: A token is the base unit of analysis</li>\n",
    "<li>So, the first step is to convert text into tokens and nltk text object</li>"
   ]
  },
  {
   "cell_type": "code",
   "execution_count": null,
   "metadata": {},
   "outputs": [],
   "source": [
    "#Construct tokens (words/sentences) from the text\n",
    "text = le_monde_data.raw()\n",
    "import nltk\n",
    "from nltk import sent_tokenize,word_tokenize \n",
    "sentences = nltk.Text(sent_tokenize(text))\n",
    "print(len(sentences))\n",
    "words = nltk.Text(word_tokenize(text))\n",
    "print(len(words))"
   ]
  },
  {
   "cell_type": "code",
   "execution_count": null,
   "metadata": {},
   "outputs": [],
   "source": [
    "num_chars=len(text)\n",
    "num_words=len(word_tokenize(text))\n",
    "num_sentences=len(sent_tokenize(text))\n",
    "vocab = {x.lower() for x in word_tokenize(text)}\n",
    "print(num_chars,int(num_chars/num_words),int(num_words/num_sentences),(len(vocab)/num_words))\n"
   ]
  },
  {
   "cell_type": "markdown",
   "metadata": {},
   "source": [
    "<h4>Functionalize this</h4>"
   ]
  },
  {
   "cell_type": "code",
   "execution_count": null,
   "metadata": {},
   "outputs": [],
   "source": [
    "def get_complexity(text):\n",
    "    num_chars=len(text)\n",
    "    num_words=len(word_tokenize(text))\n",
    "    num_sentences=len(sent_tokenize(text))\n",
    "    vocab = {x.lower() for x in word_tokenize(text)}\n",
    "    return len(vocab),int(num_chars/num_words),int(num_words/num_sentences),len(vocab)/num_words"
   ]
  },
  {
   "cell_type": "code",
   "execution_count": null,
   "metadata": {},
   "outputs": [],
   "source": [
    "get_complexity(le_monde_data.raw())"
   ]
  },
  {
   "cell_type": "code",
   "execution_count": null,
   "metadata": {},
   "outputs": [],
   "source": [
    "for text in restaurant_data:\n",
    "    (vocab,word_size,sent_size,vocab_to_text) = get_complexity(text[1])\n",
    "    print(\"{0:15s}\\t{1:1.2f}\\t{2:1.2f}\\t{3:1.2f}\\t{4:1.2f}\".format(text[0],vocab,word_size,sent_size,vocab_to_text))"
   ]
  },
  {
   "cell_type": "markdown",
   "metadata": {},
   "source": [
    "<h4>We could do a word cloud comparison</h4>\n",
    "We'll remove short words and look only at words longer than 6 letters"
   ]
  },
  {
   "cell_type": "code",
   "execution_count": null,
   "metadata": {},
   "outputs": [],
   "source": [
    "texts = restaurant_data\n",
    "from wordcloud import WordCloud, STOPWORDS\n",
    "import matplotlib.pyplot as plt\n",
    "%matplotlib inline\n",
    "#Remove unwanted words\n",
    "#As we look at the cloud, we can get rid of words that don't make sense by adding them to this variable\n",
    "DELETE_WORDS = []\n",
    "def remove_words(text_string,DELETE_WORDS=DELETE_WORDS):\n",
    "    for word in DELETE_WORDS:\n",
    "        text_string = text_string.replace(word,' ')\n",
    "    return text_string\n",
    "\n",
    "#Remove short words\n",
    "MIN_LENGTH = 0\n",
    "def remove_short_words(text_string,min_length = MIN_LENGTH):\n",
    "    word_list = text_string.split()\n",
    "    for word in word_list:\n",
    "        if len(word) < min_length:\n",
    "            text_string = text_string.replace(' '+word+' ',' ',1)\n",
    "    return text_string\n",
    "\n",
    "\n",
    "#Set up side by side clouds\n",
    "COL_NUM = 2\n",
    "ROW_NUM = 2\n",
    "fig, axes = plt.subplots(ROW_NUM, COL_NUM, figsize=(12,12))\n",
    "\n",
    "for i in range(0,len(texts)):\n",
    "    text_string = remove_words(texts[i][1])\n",
    "    text_string = remove_short_words(text_string)\n",
    "    ax = axes[i%2]\n",
    "    ax = axes[i//2, i%2] #Use this if ROW_NUM >=2\n",
    "    ax.set_title(texts[i][0])\n",
    "    wordcloud = WordCloud(stopwords=STOPWORDS,background_color='white',width=1200,height=1000,max_words=20).generate(text_string)\n",
    "    ax.imshow(wordcloud)\n",
    "    ax.axis('off')\n",
    "plt.show()"
   ]
  },
  {
   "cell_type": "markdown",
   "metadata": {},
   "source": [
    "<h3>Comparing complexity of restaurant reviews won't get us anything useful</h3>\n",
    "<h3>Let's look at something more useful</h3>"
   ]
  },
  {
   "cell_type": "markdown",
   "metadata": {},
   "source": [
    "<h2>nltk: Python's natural language toolkit</h2>\n"
   ]
  },
  {
   "cell_type": "markdown",
   "metadata": {},
   "source": [
    "<h3>ntlk documentation link:</h3> http://www.nltk.org/api/nltk.html\n",
    "<h3>Commands cheat sheet</h3> https://blogs.princeton.edu/etc/files/2014/03/Text-Analysis-with-NLTK-Cheatsheet.pdf\n",
    "<h3>nltk book</h3>http://www.nltk.org/book/"
   ]
  },
  {
   "cell_type": "markdown",
   "metadata": {},
   "source": [
    "<h2>nltk contains a large corpora of pre-tokenized text</h2>\n",
    "Load it using the command:<p>\n",
    "nltk.download()\n",
    "\n",
    "    "
   ]
  },
  {
   "cell_type": "markdown",
   "metadata": {},
   "source": [
    "<h4>Import the corpora</h4>"
   ]
  },
  {
   "cell_type": "code",
   "execution_count": null,
   "metadata": {},
   "outputs": [],
   "source": [
    "from nltk.book import *"
   ]
  },
  {
   "cell_type": "markdown",
   "metadata": {},
   "source": [
    "<h1>Often, a comparitive analysis helps us understand text better</h1>\n",
    "<h2>Let's look at US Presidentinaugural speeches</h2>\n",
    "<h4>Copy the files 2013-Obama.txt and 2017-Trump.txt to the nltk_data/corpora/inaugural directory. nltk_data should be under your home directory</h4>"
   ]
  },
  {
   "cell_type": "code",
   "execution_count": null,
   "metadata": {},
   "outputs": [],
   "source": [
    "inaugural.fileids()"
   ]
  },
  {
   "cell_type": "code",
   "execution_count": null,
   "metadata": {},
   "outputs": [],
   "source": [
    "inaugural.raw('1861-Lincoln.txt')"
   ]
  },
  {
   "cell_type": "markdown",
   "metadata": {},
   "source": [
    "<h4>Let's look at the complexity of the speeches by four presidents</h4>"
   ]
  },
  {
   "cell_type": "code",
   "execution_count": null,
   "metadata": {},
   "outputs": [],
   "source": [
    "texts = [('trump',inaugural.raw('2017-Trump.txt')),\n",
    "         ('obama',inaugural.raw('2009-Obama.txt')+inaugural.raw('2013-Obama.txt')),\n",
    "         ('jackson',inaugural.raw('1829-Jackson.txt')+inaugural.raw('1833-Jackson.txt')),\n",
    "         ('washington',inaugural.raw('1789-Washington.txt')+inaugural.raw('1793-Washington.txt'))]\n",
    "for text in texts:\n",
    "    (vocab,word_size,sent_size,vocab_to_text) = get_complexity(text[1])\n",
    "    print(\"{0:15s}\\t{1:1.2f}\\t{2:1.2f}\\t{3:1.2f}\\t{4:1.2f}\".format(text[0],vocab,word_size,sent_size,vocab_to_text))"
   ]
  },
  {
   "cell_type": "markdown",
   "metadata": {},
   "source": [
    "<h2>Analysis over time</h2>\n"
   ]
  },
  {
   "cell_type": "markdown",
   "metadata": {},
   "source": [
    "<h3>The files are arranged over time so we can analyze how complexity has changed between Washington and Trump</h3>"
   ]
  },
  {
   "cell_type": "code",
   "execution_count": null,
   "metadata": {},
   "outputs": [],
   "source": [
    "from nltk.corpus import inaugural\n",
    "sentence_lengths = list()\n",
    "for fileid in inaugural.fileids():\n",
    "    sentence_lengths.append(get_complexity(' '.join(inaugural.words(fileid)))[2])\n",
    "plt.plot(sentence_lengths)"
   ]
  },
  {
   "cell_type": "markdown",
   "metadata": {},
   "source": [
    "<h1>dispersion plots</h1>\n",
    "<h2>Dispersion plots show the relative frequency of words over the text</h2>\n",
    "<h3>Let's see how the frequency of some words has changed over the course of the republic</h3>\n",
    "<h3>That should give us some idea of how the focus of the nation has changed</h3>"
   ]
  },
  {
   "cell_type": "code",
   "execution_count": null,
   "metadata": {},
   "outputs": [],
   "source": [
    "text4.dispersion_plot([\"government\", \"citizen\", \"freedom\", \"duties\", \"America\",'independence','God','patriotism'])"
   ]
  },
  {
   "cell_type": "markdown",
   "metadata": {},
   "source": [
    "<h4>We may want to use word stems rather than the part of speect form</h4>\n",
    "<li>For example: patriot, patriotic, patriotism all express roughly the same idea\n",
    "<li>nltk has a stemmer that implements the \"Porter Stemming Algorithm\" (https://tartarus.org/martin/PorterStemmer/)\n",
    "<li>We'll push everything to lowercase as well"
   ]
  },
  {
   "cell_type": "code",
   "execution_count": null,
   "metadata": {},
   "outputs": [],
   "source": [
    "from nltk.stem.porter import PorterStemmer\n",
    "p_stemmer = PorterStemmer()\n",
    "text = inaugural.raw()\n",
    "striptext = text.replace('\\n\\n', ' ')\n",
    "striptext = striptext.replace('\\n', ' ')\n",
    "sentences = sent_tokenize(striptext)\n",
    "words = word_tokenize(striptext)\n",
    "text = nltk.Text([p_stemmer.stem(i).lower() for i in words])\n",
    "text.dispersion_plot([\"govern\", \"citizen\", \"free\", \"america\",'independ','god','patriot'])"
   ]
  },
  {
   "cell_type": "markdown",
   "metadata": {},
   "source": [
    "<h2>Weighted word analysis using Vader</h2>\n",
    "<h4>Vader contains a list of 7500 features weighted by how positive or negative they are</h4>\n",
    "<h4>It uses these features to calculate stats on how positive, negative and neutral a passage is</h4>\n",
    "<h4>And combines these results to give a compound sentiment (higher = more positive) for the passage</h4>\n",
    "<h4>Human trained on twitter data and generally considered good for informal communication</h4>\n",
    "<h4>10 humans rated each feature in each tweet in context from -4 to +4</h4>\n",
    "<h4>Calculates the sentiment in a sentence using word order analysis</h4>\n",
    "<li>\"marginally good\" will get a lower positive score than \"extremely good\"\n",
    "<h4>Computes a \"compound\" score based on heuristics (between -1 and +1)</h4>\n",
    "<h4>Includes sentiment of emoticons, punctuation, and other 'social media' lexicon elements</h4>\n"
   ]
  },
  {
   "cell_type": "code",
   "execution_count": null,
   "metadata": {},
   "outputs": [],
   "source": [
    "!pip install vaderSentiment"
   ]
  },
  {
   "cell_type": "code",
   "execution_count": null,
   "metadata": {},
   "outputs": [],
   "source": [
    "from vaderSentiment.vaderSentiment import SentimentIntensityAnalyzer"
   ]
  },
  {
   "cell_type": "code",
   "execution_count": null,
   "metadata": {},
   "outputs": [],
   "source": [
    "headers = ['pos','neg','neu','compound']\n",
    "texts = restaurant_data\n",
    "analyzer = SentimentIntensityAnalyzer()\n",
    "for i in range(len(texts)):\n",
    "    name = texts[i][0]\n",
    "    sentences = sent_tokenize(texts[i][1])\n",
    "    pos=compound=neu=neg=0\n",
    "    for sentence in sentences:\n",
    "        vs = analyzer.polarity_scores(sentence)\n",
    "        pos+=vs['pos']/(len(sentences))\n",
    "        compound+=vs['compound']/(len(sentences))\n",
    "        neu+=vs['neu']/(len(sentences))\n",
    "        neg+=vs['neg']/(len(sentences))\n",
    "    print(name,pos,neg,neu,compound)"
   ]
  },
  {
   "cell_type": "markdown",
   "metadata": {},
   "source": [
    "<h4>And functionalize this as well</h4>"
   ]
  },
  {
   "cell_type": "code",
   "execution_count": null,
   "metadata": {},
   "outputs": [],
   "source": [
    "def vader_comparison(texts):\n",
    "    from vaderSentiment.vaderSentiment import SentimentIntensityAnalyzer\n",
    "    headers = ['pos','neg','neu','compound']\n",
    "    print(\"Name\\t\",'  pos\\t','neg\\t','neu\\t','compound')\n",
    "    analyzer = SentimentIntensityAnalyzer()\n",
    "    for i in range(len(texts)):\n",
    "        name = texts[i][0]\n",
    "        sentences = sent_tokenize(texts[i][1])\n",
    "        pos=compound=neu=neg=0\n",
    "        for sentence in sentences:\n",
    "            vs = analyzer.polarity_scores(sentence)\n",
    "            pos+=vs['pos']/(len(sentences))\n",
    "            compound+=vs['compound']/(len(sentences))\n",
    "            neu+=vs['neu']/(len(sentences))\n",
    "            neg+=vs['neg']/(len(sentences))\n",
    "        print('%-10s'%name,'%1.2f\\t'%pos,'%1.2f\\t'%neg,'%1.2f\\t'%neu,'%1.2f\\t'%compound)"
   ]
  },
  {
   "cell_type": "code",
   "execution_count": null,
   "metadata": {},
   "outputs": [],
   "source": [
    "vader_comparison(restaurant_data)"
   ]
  },
  {
   "cell_type": "markdown",
   "metadata": {
    "collapsed": true
   },
   "source": [
    "<h2>Named Entities</h2>\n",
    "<h4>People, places, organizations</h4>\n",
    "Named entities are often the subject of sentiments so identifying them can be very useful"
   ]
  },
  {
   "cell_type": "markdown",
   "metadata": {},
   "source": [
    "<h4>Named entity detection is based on Part-of-speech tagging of words and chunks (groups of words)</h4>\n",
    "<li>Start with sentences (using a sentence tokenizer)\n",
    "<li>tokenize words in each sentence\n",
    "<li>chunk them. ne_chunk identifies likely chunked candidates (ne = named entity)\n",
    "<li>Finally build chunks using nltk's guess on what members of chunk represent (people, place, organization)\n"
   ]
  },
  {
   "cell_type": "code",
   "execution_count": null,
   "metadata": {},
   "outputs": [],
   "source": [
    "en={}\n",
    "try:\n",
    "    sent_detector = nltk.data.load('tokenizers/punkt/english.pickle')\n",
    "    sentences = sent_detector.tokenize(community_data.raw().strip())\n",
    "    for sentence in sentences:\n",
    "            tokenized = nltk.word_tokenize(sentence)\n",
    "            tagged = nltk.pos_tag(tokenized)\n",
    "            chunked = nltk.ne_chunk(tagged)\n",
    "            for tree in chunked:\n",
    "                if hasattr(tree, 'label'):\n",
    "                    ne = ' '.join(c[0] for c in tree.leaves())\n",
    "                    en[ne] = [tree.label(), ' '.join(c[1] for c in tree.leaves())]\n",
    "except Exception as e:\n",
    "    print(str(e))\n",
    "import pprint\n",
    "pp = pprint.PrettyPrinter(indent=4)\n",
    "pp.pprint(en)"
   ]
  },
  {
   "cell_type": "markdown",
   "metadata": {},
   "source": [
    "<h4>Assuming we've done a good job of identifying named entities, we can get an affect score on entities</h4>"
   ]
  },
  {
   "cell_type": "code",
   "execution_count": null,
   "metadata": {},
   "outputs": [],
   "source": [
    "meaningful_sents = list()\n",
    "i=0\n",
    "for sentence in sentences:\n",
    "    if 'service' in sentence:\n",
    "        i+=1\n",
    "        meaningful_sents.append((i,sentence))\n",
    "\n",
    "vader_comparison(meaningful_sents)       "
   ]
  },
  {
   "cell_type": "markdown",
   "metadata": {},
   "source": [
    "<h4>We could also develop a affect calculator for common terms in our domain (e.g., food items)</h4>"
   ]
  },
  {
   "cell_type": "code",
   "execution_count": null,
   "metadata": {},
   "outputs": [],
   "source": [
    "def get_affect(text,word,lower=False):\n",
    "    import nltk\n",
    "    from vaderSentiment.vaderSentiment import SentimentIntensityAnalyzer\n",
    "    analyzer = SentimentIntensityAnalyzer()\n",
    "    sent_detector = nltk.data.load('tokenizers/punkt/english.pickle')\n",
    "    sentences = sent_detector.tokenize(text.strip())\n",
    "    sentence_count = 0\n",
    "    running_total = 0\n",
    "    for sentence in sentences:\n",
    "        if lower: sentence = sentence.lower()\n",
    "        if word in sentence:\n",
    "            vs = analyzer.polarity_scores(sentence) \n",
    "            running_total += vs['compound']\n",
    "            sentence_count += 1\n",
    "    if sentence_count == 0: return 0\n",
    "    return running_total/sentence_count"
   ]
  },
  {
   "cell_type": "code",
   "execution_count": null,
   "metadata": {},
   "outputs": [],
   "source": [
    "get_affect(community_data.raw(),'service',True)"
   ]
  },
  {
   "cell_type": "markdown",
   "metadata": {},
   "source": [
    "<h4>The nltk function concordance returns text fragments around a word</h4>"
   ]
  },
  {
   "cell_type": "code",
   "execution_count": null,
   "metadata": {},
   "outputs": [],
   "source": [
    "nltk.Text(community_data.words()).concordance('service',100)"
   ]
  },
  {
   "cell_type": "markdown",
   "metadata": {},
   "source": [
    "<h2>Text summarization</h2>\n",
    "<h4>Text summarization is useful because you can generate a short summary of a large piece of text automatically</h4>\n",
    "<h4>Then, these summaries can serve as an input into a topic analyzer to figure out what the main topic of the text is</h4>"
   ]
  },
  {
   "cell_type": "markdown",
   "metadata": {},
   "source": [
    "A naive form of summarization is to identify the most frequent words in a piece of text and use the occurrence of these words in sentences to rate the importance of a sentence. "
   ]
  },
  {
   "cell_type": "markdown",
   "metadata": {},
   "source": [
    "<h4>First the imports</h4>"
   ]
  },
  {
   "cell_type": "code",
   "execution_count": null,
   "metadata": {},
   "outputs": [],
   "source": [
    "from nltk.tokenize import word_tokenize\n",
    "from nltk.tokenize import sent_tokenize\n",
    "from nltk.probability import FreqDist\n",
    "from nltk.corpus import stopwords\n",
    "from collections import OrderedDict\n",
    "import pprint"
   ]
  },
  {
   "cell_type": "markdown",
   "metadata": {},
   "source": [
    "<h4>Then prep the text. Get did of end of line chars</h4>"
   ]
  },
  {
   "cell_type": "code",
   "execution_count": null,
   "metadata": {},
   "outputs": [],
   "source": [
    "text = community_data.raw()\n",
    "summary_sentences = []\n",
    "candidate_sentences = {}\n",
    "candidate_sentence_counts = {}\n",
    "striptext = text.replace('\\n\\n', ' ')\n",
    "striptext = striptext.replace('\\n', ' ')"
   ]
  },
  {
   "cell_type": "markdown",
   "metadata": {},
   "source": [
    "<h4>Construct a list of words after getting rid of unimportant ones and numbers</h4>"
   ]
  },
  {
   "cell_type": "code",
   "execution_count": null,
   "metadata": {},
   "outputs": [],
   "source": [
    "words = word_tokenize(striptext)\n",
    "lowercase_words = [word.lower() for word in words\n",
    "                  if word not in stopwords.words() and word.isalpha()]\n"
   ]
  },
  {
   "cell_type": "markdown",
   "metadata": {},
   "source": [
    "<h4>Construct word frequencies and choose the most common n (20)</h4>"
   ]
  },
  {
   "cell_type": "code",
   "execution_count": null,
   "metadata": {},
   "outputs": [],
   "source": [
    "word_frequencies = FreqDist(lowercase_words)\n",
    "most_frequent_words = FreqDist(lowercase_words).most_common(20)\n",
    "pp = pprint.PrettyPrinter(indent=4)\n",
    "pp.pprint(most_frequent_words)"
   ]
  },
  {
   "cell_type": "markdown",
   "metadata": {},
   "source": [
    "<h4>lowercase the sentences</h4>\n",
    "candidate_sentences is a dictionary with the original sentence as the key, and its lowercase version as the value"
   ]
  },
  {
   "cell_type": "code",
   "execution_count": null,
   "metadata": {},
   "outputs": [],
   "source": [
    "sentences = sent_tokenize(striptext)\n",
    "for sentence in sentences:\n",
    "    candidate_sentences[sentence] = sentence.lower()\n",
    "candidate_sentences"
   ]
  },
  {
   "cell_type": "code",
   "execution_count": null,
   "metadata": {},
   "outputs": [],
   "source": [
    "for long, short in candidate_sentences.items():\n",
    "    count = 0\n",
    "    for freq_word, frequency_score in most_frequent_words:\n",
    "        if freq_word in short:\n",
    "            count += frequency_score\n",
    "            candidate_sentence_counts[long] = count"
   ]
  },
  {
   "cell_type": "code",
   "execution_count": null,
   "metadata": {},
   "outputs": [],
   "source": [
    "sorted_sentences = OrderedDict(sorted(\n",
    "                    candidate_sentence_counts.items(),\n",
    "                    key = lambda x: x[0],\n",
    "                    reverse = True)[:4])\n",
    "pp.pprint(sorted_sentences)"
   ]
  },
  {
   "cell_type": "markdown",
   "metadata": {},
   "source": [
    "<h4>Packaging all this into a function</h4>\n"
   ]
  },
  {
   "cell_type": "code",
   "execution_count": null,
   "metadata": {},
   "outputs": [],
   "source": [
    "def build_naive_summary(text):\n",
    "    from nltk.tokenize import word_tokenize\n",
    "    from nltk.tokenize import sent_tokenize\n",
    "    from nltk.probability import FreqDist\n",
    "    from nltk.corpus import stopwords\n",
    "    from collections import OrderedDict\n",
    "    summary_sentences = []\n",
    "    candidate_sentences = {}\n",
    "    candidate_sentence_counts = {}\n",
    "    striptext = text.replace('\\n\\n', ' ')\n",
    "    striptext = striptext.replace('\\n', ' ')\n",
    "    words = word_tokenize(striptext)\n",
    "    lowercase_words = [word.lower() for word in words\n",
    "                      if word not in stopwords.words() and word.isalpha()]\n",
    "    word_frequencies = FreqDist(lowercase_words)\n",
    "    most_frequent_words = FreqDist(lowercase_words).most_common(20)\n",
    "    sentences = sent_tokenize(striptext)\n",
    "    for sentence in sentences:\n",
    "        candidate_sentences[sentence] = sentence.lower()\n",
    "    for long, short in candidate_sentences.items():\n",
    "        count = 0\n",
    "        for freq_word, frequency_score in most_frequent_words:\n",
    "            if freq_word in short:\n",
    "                count += frequency_score\n",
    "                candidate_sentence_counts[long] = count   \n",
    "    sorted_sentences = OrderedDict(sorted(\n",
    "                        candidate_sentence_counts.items(),\n",
    "                        key = lambda x: x[1],\n",
    "                        reverse = True)[:4])\n",
    "    return sorted_sentences   "
   ]
  },
  {
   "cell_type": "code",
   "execution_count": null,
   "metadata": {},
   "outputs": [],
   "source": [
    "summary = '\\n'.join(build_naive_summary(community_data.raw()))\n",
    "print(summary)"
   ]
  },
  {
   "cell_type": "code",
   "execution_count": null,
   "metadata": {},
   "outputs": [],
   "source": [
    "summary = '\\n'.join(build_naive_summary(le_monde_data.raw()))\n",
    "print(summary)"
   ]
  },
  {
   "cell_type": "markdown",
   "metadata": {},
   "source": [
    "<h4>We can summarize George Washington's first inaugural speech<h4>"
   ]
  },
  {
   "cell_type": "code",
   "execution_count": null,
   "metadata": {},
   "outputs": [],
   "source": [
    "build_naive_summary(inaugural.raw('1789-Washington.txt'))"
   ]
  },
  {
   "cell_type": "markdown",
   "metadata": {},
   "source": [
    "<h3>gensim: another text summarizer</h3>\n",
    "Gensim uses a network with sentences as nodes and 'lexical similarity' as weights on the arcs between nodes<p>\n"
   ]
  },
  {
   "cell_type": "code",
   "execution_count": null,
   "metadata": {},
   "outputs": [],
   "source": [
    "from wordcloud import WordCloud, STOPWORDS\n",
    "import matplotlib.pyplot as plt\n",
    "%matplotlib inline\n",
    "import nltk\n",
    "from nltk.corpus import PlaintextCorpusReader\n",
    "from nltk import sent_tokenize,word_tokenize \n",
    "from nltk.book import *"
   ]
  },
  {
   "cell_type": "code",
   "execution_count": null,
   "metadata": {},
   "outputs": [],
   "source": [
    "import nltk\n",
    "from nltk.corpus import PlaintextCorpusReader\n",
    "community_root = \"data/community\"\n",
    "le_monde_root = \"data/le_monde\"\n",
    "community_files = \"community.*\"\n",
    "le_monde_files = \"le_monde.*\"\n",
    "heights_root = \"data/heights\"\n",
    "heights_files = \"heights.*\"\n",
    "amigos_root = \"data/amigos\"\n",
    "amigos_files = \"amigos.*\"\n",
    "community_data = PlaintextCorpusReader(community_root,community_files)\n",
    "le_monde_data = PlaintextCorpusReader(le_monde_root,le_monde_files)\n",
    "heights_data = PlaintextCorpusReader(heights_root,heights_files)\n",
    "amigos_data = PlaintextCorpusReader(amigos_root,amigos_files)"
   ]
  },
  {
   "cell_type": "code",
   "execution_count": null,
   "metadata": {},
   "outputs": [],
   "source": [
    "type(community_data)"
   ]
  },
  {
   "cell_type": "code",
   "execution_count": null,
   "metadata": {},
   "outputs": [],
   "source": [
    "text = community_data.raw()\n",
    "summary_sentences = []\n",
    "candidate_sentences = {}\n",
    "candidate_sentence_counts = {}\n",
    "striptext = text.replace('\\n\\n', ' ')\n",
    "striptext = striptext.replace('\\n', ' ')"
   ]
  },
  {
   "cell_type": "code",
   "execution_count": null,
   "metadata": {},
   "outputs": [],
   "source": [
    "import gensim.summarization"
   ]
  },
  {
   "cell_type": "code",
   "execution_count": null,
   "metadata": {},
   "outputs": [],
   "source": []
  },
  {
   "cell_type": "code",
   "execution_count": null,
   "metadata": {},
   "outputs": [],
   "source": [
    "#!pip install gensim"
   ]
  },
  {
   "cell_type": "code",
   "execution_count": null,
   "metadata": {},
   "outputs": [],
   "source": [
    "import gensim.summarization"
   ]
  },
  {
   "cell_type": "code",
   "execution_count": null,
   "metadata": {},
   "outputs": [],
   "source": [
    "summary = gensim.summarization.summarize(striptext, word_count=100) \n",
    "print(summary)"
   ]
  },
  {
   "cell_type": "code",
   "execution_count": null,
   "metadata": {},
   "outputs": [],
   "source": [
    "print(gensim.summarization.keywords(striptext,words=10))"
   ]
  },
  {
   "cell_type": "code",
   "execution_count": null,
   "metadata": {},
   "outputs": [],
   "source": [
    "summary = '\\n'.join(build_naive_summary(community_data.raw()))\n",
    "print(summary)"
   ]
  },
  {
   "cell_type": "code",
   "execution_count": null,
   "metadata": {},
   "outputs": [],
   "source": [
    "text = le_monde_data.raw()\n",
    "summary_sentences = []\n",
    "candidate_sentences = {}\n",
    "candidate_sentence_counts = {}\n",
    "striptext = text.replace('\\n\\n', ' ')\n",
    "striptext = striptext.replace('\\n', ' ')\n",
    "summary = gensim.summarization.summarize(striptext, word_count=100) \n",
    "print(summary)\n",
    "#print(gensim.summarization.keywords(striptext,words=10))"
   ]
  },
  {
   "cell_type": "markdown",
   "metadata": {},
   "source": [
    "<h1>Topic modeling</h1>\n",
    "<h4>The goal of topic modeling is to identify the major concepts underlying a piece of text</h4>\n",
    "<h4>Topic modeling uses \"Unsupervised Learning\". No apriori knowledge is necessary\n",
    "<li>Though it is helpful in cleaning up results!"
   ]
  },
  {
   "cell_type": "markdown",
   "metadata": {},
   "source": [
    "<h3>LDA: Latent Dirichlet Allocation Model</h3>\n",
    "<li>Identifies potential topics using pruning techniques like 'upward closure'\n",
    "<li>Computes conditional probabilities for topic word sets\n",
    "<li>Identifies the most likely topics\n",
    "<li>Does this over multiple passes probabilistically picking topics in each pass\n",
    "<li>Good intuitive explanation: http://blog.echen.me/2011/08/22/introduction-to-latent-dirichlet-allocation/"
   ]
  },
  {
   "cell_type": "code",
   "execution_count": null,
   "metadata": {},
   "outputs": [],
   "source": [
    "from gensim import corpora\n",
    "from gensim.models.ldamodel import LdaModel\n",
    "from gensim.parsing.preprocessing import STOPWORDS\n",
    "import pprint"
   ]
  },
  {
   "cell_type": "markdown",
   "metadata": {},
   "source": [
    "<h4>Prepare the text</h4>"
   ]
  },
  {
   "cell_type": "code",
   "execution_count": null,
   "metadata": {},
   "outputs": [],
   "source": [
    "text = PlaintextCorpusReader(\"data/\",\"Nikon_coolpix_4300.txt\").raw()\n",
    "striptext = text.replace('\\n\\n', ' ')\n",
    "striptext = striptext.replace('\\n', ' ')\n",
    "sentences = sent_tokenize(striptext)\n",
    "#words = word_tokenize(striptext)\n",
    "#tokenize each sentence into word tokens\n",
    "texts = [[word for word in sentence.lower().split()\n",
    "        if word not in STOPWORDS and word.isalnum()]\n",
    "        for sentence in sentences]\n",
    "len(texts)"
   ]
  },
  {
   "cell_type": "markdown",
   "metadata": {},
   "source": [
    "<h4>Create a (word,frequency) dictionary for each word in the text</h4>"
   ]
  },
  {
   "cell_type": "code",
   "execution_count": null,
   "metadata": {},
   "outputs": [],
   "source": [
    "print(text)"
   ]
  },
  {
   "cell_type": "code",
   "execution_count": null,
   "metadata": {},
   "outputs": [],
   "source": [
    "text"
   ]
  },
  {
   "cell_type": "code",
   "execution_count": null,
   "metadata": {},
   "outputs": [],
   "source": [
    "dictionary = corpora.Dictionary(texts) #(word_id,frequency) pairs\n",
    "corpus = [dictionary.doc2bow(text) for text in texts] #(word_id,freq) pairs by sentence\n",
    "#print(dictionary.token2id)\n",
    "#print(dictionary.keys())\n",
    "#print(corpus[9])\n",
    "#print(texts[9])\n",
    "#print(dictionary[73])\n",
    "#dictionary[4]"
   ]
  },
  {
   "cell_type": "markdown",
   "metadata": {},
   "source": [
    "<h4>Do the LDA</h4>"
   ]
  },
  {
   "cell_type": "markdown",
   "metadata": {},
   "source": [
    "<h4>Parameters:</h4>\n",
    "<li>Number of topics: The number of topics you want generated. The larger the document, the more the desirable topics\n",
    "<li>Passes: The LDA model makes through the document. More passes, slower analysis"
   ]
  },
  {
   "cell_type": "code",
   "execution_count": null,
   "metadata": {},
   "outputs": [],
   "source": [
    "#Set parameters\n",
    "num_topics = 5 #The number of topics that should be generated\n",
    "passes = 10 "
   ]
  },
  {
   "cell_type": "code",
   "execution_count": null,
   "metadata": {},
   "outputs": [],
   "source": [
    "lda = LdaModel(corpus,\n",
    "              id2word=dictionary,\n",
    "              num_topics=num_topics,\n",
    "              passes=10)"
   ]
  },
  {
   "cell_type": "code",
   "execution_count": null,
   "metadata": {},
   "outputs": [],
   "source": []
  },
  {
   "cell_type": "markdown",
   "metadata": {},
   "source": [
    "<h4>See results</h4>"
   ]
  },
  {
   "cell_type": "code",
   "execution_count": null,
   "metadata": {},
   "outputs": [],
   "source": [
    "pp = pprint.PrettyPrinter(indent=4)\n",
    "pp.pprint(lda.print_topics(num_words=3))"
   ]
  },
  {
   "cell_type": "markdown",
   "metadata": {},
   "source": [
    "<h2>Matching topics to documents</h2>\n",
    "<h3>Sort topics by probability</h3>"
   ]
  },
  {
   "cell_type": "markdown",
   "metadata": {},
   "source": [
    "<h4>We're using sentences as documents here, so this is less than ideal</h4>"
   ]
  },
  {
   "cell_type": "code",
   "execution_count": null,
   "metadata": {},
   "outputs": [],
   "source": [
    "from operator import itemgetter\n",
    "lda.get_document_topics(corpus[0],minimum_probability=0.05,per_word_topics=False)\n",
    "sorted(lda.get_document_topics(corpus[0],minimum_probability=0,per_word_topics=False),key=itemgetter(1),reverse=True)"
   ]
  },
  {
   "cell_type": "markdown",
   "metadata": {},
   "source": [
    "<h3>Making sense of the topics</h3>\n"
   ]
  },
  {
   "cell_type": "markdown",
   "metadata": {},
   "source": [
    "<h4>Draw wordclouds</h4>"
   ]
  },
  {
   "cell_type": "code",
   "execution_count": null,
   "metadata": {},
   "outputs": [],
   "source": [
    "def draw_wordcloud(lda,topicnum,min_size=0,STOPWORDS=[]):\n",
    "    word_list=[]\n",
    "    prob_total = 0\n",
    "    for word,prob in lda.show_topic(topicnum,topn=50):\n",
    "        prob_total +=prob\n",
    "    for word,prob in lda.show_topic(topicnum,topn=50):\n",
    "        if word in STOPWORDS or  len(word) < min_size:\n",
    "            continue\n",
    "        freq = int(prob/prob_total*1000)\n",
    "        alist=[word]\n",
    "        word_list.extend(alist*freq)\n",
    "\n",
    "    from wordcloud import WordCloud, STOPWORDS\n",
    "    import matplotlib.pyplot as plt\n",
    "    %matplotlib inline\n",
    "    text = ' '.join(word_list)\n",
    "    wordcloud = WordCloud(stopwords=STOPWORDS,background_color='white',width=3000,height=3000).generate(' '.join(word_list))\n",
    "\n",
    "\n",
    "    plt.imshow(wordcloud)\n",
    "    plt.axis('off')\n",
    "    plt.show()"
   ]
  },
  {
   "cell_type": "code",
   "execution_count": null,
   "metadata": {},
   "outputs": [],
   "source": [
    "draw_wordcloud(lda,2)"
   ]
  },
  {
   "cell_type": "markdown",
   "metadata": {},
   "source": [
    "<h4>Roughly,</h4>\n",
    "<li>lda looks for candidate topics assuming that there are many such candidates\n",
    "<li>looks for words related to the candidate topics\n",
    "<li>assign probablilites to those words"
   ]
  },
  {
   "cell_type": "markdown",
   "metadata": {},
   "source": [
    "<h3>Let's look at Presidential addresses to see what sorts of topics emerge from there</h3>\n",
    "<li>Each document will be analyzed for topic</li>\n",
    "<li>The corpus will consist of 58 documents, one per presidential address"
   ]
  },
  {
   "cell_type": "code",
   "execution_count": null,
   "metadata": {},
   "outputs": [],
   "source": [
    "REMOVE_WORDS = {'shall','generally','spirit','country','people','nation','nations','great','better'}\n",
    "#Create a word dictionary (id, word)\n",
    "texts = [[word for word in sentence.lower().split()\n",
    "        if word not in STOPWORDS and word not in REMOVE_WORDS and word.isalnum()]\n",
    "        for sentence in sentences]\n",
    "dictionary = corpora.Dictionary(texts)\n",
    "\n",
    "#Create a corpus of documents\n",
    "text_list = list()\n",
    "for fileid in inaugural.fileids():\n",
    "    text = inaugural.words(fileid)\n",
    "    doc=list()\n",
    "    for word in text:\n",
    "        if word in STOPWORDS or word in REMOVE_WORDS or not word.isalpha() or len(word) <5:\n",
    "            continue\n",
    "        doc.append(word)\n",
    "    text_list.append(doc)\n",
    "by_address_corpus = [dictionary.doc2bow(text) for text in text_list]"
   ]
  },
  {
   "cell_type": "markdown",
   "metadata": {},
   "source": [
    "<h2>Create the model</h2>"
   ]
  },
  {
   "cell_type": "code",
   "execution_count": null,
   "metadata": {},
   "outputs": [],
   "source": [
    "lda = LdaModel(by_address_corpus,\n",
    "              id2word=dictionary,\n",
    "              num_topics=20,\n",
    "              passes=10)"
   ]
  },
  {
   "cell_type": "code",
   "execution_count": null,
   "metadata": {},
   "outputs": [],
   "source": [
    "pp = pprint.PrettyPrinter(indent=4)\n",
    "pp.pprint(lda.print_topics(num_words=10))"
   ]
  },
  {
   "cell_type": "markdown",
   "metadata": {},
   "source": [
    "<h2>We can now compare presidential addresses by topic</h2>"
   ]
  },
  {
   "cell_type": "code",
   "execution_count": null,
   "metadata": {},
   "outputs": [],
   "source": [
    "len(by_address_corpus)"
   ]
  },
  {
   "cell_type": "code",
   "execution_count": null,
   "metadata": {},
   "outputs": [],
   "source": [
    "from operator import itemgetter\n",
    "sorted(lda.get_document_topics(by_address_corpus[0],minimum_probability=0,per_word_topics=False),key=itemgetter(1),reverse=True)"
   ]
  },
  {
   "cell_type": "code",
   "execution_count": null,
   "metadata": {},
   "outputs": [],
   "source": [
    "draw_wordcloud(lda,18)"
   ]
  },
  {
   "cell_type": "code",
   "execution_count": null,
   "metadata": {},
   "outputs": [],
   "source": [
    "print(lda.show_topic(12,topn=5))\n",
    "print(lda.show_topic(18,topn=5))"
   ]
  },
  {
   "cell_type": "markdown",
   "metadata": {
    "collapsed": true
   },
   "source": [
    "<h1>Similarity</h1>\n",
    "<h2>Given a corpus of documents, when a new document arrives, find the document that is the most similar</h2>"
   ]
  },
  {
   "cell_type": "code",
   "execution_count": null,
   "metadata": {},
   "outputs": [],
   "source": [
    "doc_list = [community_data,le_monde_data,amigos_data,heights_data]\n",
    "all_text = community_data.raw() + le_monde_data.raw() + amigos_data.raw() + heights_data.raw()\n",
    "\n",
    "documents = [doc.raw() for doc in doc_list]\n",
    "texts = [[word for word in document.lower().split()\n",
    "        if word not in STOPWORDS and word.isalnum()]\n",
    "        for document in documents]\n",
    "dictionary = corpora.Dictionary(texts)\n",
    "corpus = [dictionary.doc2bow(text) for text in texts]\n"
   ]
  },
  {
   "cell_type": "code",
   "execution_count": null,
   "metadata": {},
   "outputs": [],
   "source": [
    "from gensim.similarities.docsim import Similarity\n",
    "from gensim import corpora, models, similarities\n",
    "lsi = models.LsiModel(corpus, id2word=dictionary, num_topics=2)\n",
    "doc = \"\"\"\n",
    "Many, many years ago, I used to frequent this place for their amazing french toast. \n",
    "It's been a while since then and I've been hesitant to review a place I haven't been to in 7-8 years... \n",
    "but I passed by French Roast and, feeling nostalgic, decided to go back.\n",
    "\n",
    "It was a great decision.\n",
    "\n",
    "Their Bloody Mary is fantastic and includes bacon (which was perfectly cooked!!), olives, \n",
    "cucumber, and celery. The Irish coffee is also excellent, even without the cream which is what I ordered.\n",
    "\n",
    "Great food, great drinks, a great ambiance that is casual yet familiar like a tiny little French cafe. \n",
    "I highly recommend coming here, and will be back whenever I'm in the area next.\n",
    "\n",
    "Juan, the bartender, is great!! One of the best in any brunch spot in the city, by far.\n",
    "\"\"\"\n",
    "vec_bow = dictionary.doc2bow(doc.lower().split())\n",
    "vec_lsi = lsi[vec_bow]\n",
    "index = similarities.MatrixSimilarity(lsi[corpus])\n",
    "sims = index[vec_lsi]\n",
    "sims = sorted(enumerate(sims), key=lambda item: -item[1])\n"
   ]
  },
  {
   "cell_type": "code",
   "execution_count": null,
   "metadata": {},
   "outputs": [],
   "source": [
    "sims"
   ]
  },
  {
   "cell_type": "code",
   "execution_count": null,
   "metadata": {},
   "outputs": [],
   "source": [
    "doc=\"\"\"\n",
    "I went to Mexican Festival Restaurant for Cinco De Mayo because I had been there years \n",
    "prior and had such a good experience. This time wasn't so good. The food was just \n",
    "mediocre and it wasn't hot when it was brought to our table. They brought my friends food out \n",
    "10 minutes before everyone else and it took forever to get drinks. We let it slide because the place was \n",
    "packed with people and it was Cinco De Mayo. Also, the margaritas we had were slamming! Pure tequila. \n",
    "\n",
    "But then things took a turn for the worst. As I went to get something out of my purse which was on \n",
    "the back of my chair, I looked down and saw a huge water bug. I had to warn the lady next to me because \n",
    "it was so close to her chair. We called the waitress over and someone came with a broom and a dustpan and \n",
    "swept it away like it was an everyday experience. No one seemed phased.\n",
    "\n",
    "Even though our waitress was very nice, I do not think we will be returning to Mexican Festival again. \n",
    "It seems the restaurant is a shadow of its former self.\n",
    "\"\"\"\n",
    "vec_bow = dictionary.doc2bow(doc.lower().split())\n",
    "vec_lsi = lsi[vec_bow]\n",
    "index = similarities.MatrixSimilarity(lsi[corpus])\n",
    "sims = index[vec_lsi]\n",
    "sims = sorted(enumerate(sims), key=lambda item: -item[1])\n",
    "sims"
   ]
  },
  {
   "cell_type": "code",
   "execution_count": null,
   "metadata": {},
   "outputs": [],
   "source": []
  }
 ],
 "metadata": {
  "anaconda-cloud": {},
  "kernelspec": {
   "display_name": "Python 3",
   "language": "python",
   "name": "python3"
  },
  "language_info": {
   "codemirror_mode": {
    "name": "ipython",
    "version": 3
   },
   "file_extension": ".py",
   "mimetype": "text/x-python",
   "name": "python",
   "nbconvert_exporter": "python",
   "pygments_lexer": "ipython3",
   "version": "3.7.4"
  }
 },
 "nbformat": 4,
 "nbformat_minor": 1
}
